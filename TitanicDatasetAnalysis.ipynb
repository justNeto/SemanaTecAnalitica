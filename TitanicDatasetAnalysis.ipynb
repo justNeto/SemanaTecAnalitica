{
 "cells": [
  {
   "cell_type": "markdown",
   "metadata": {},
   "source": [
    "# Analisis de Base de Datos \"Titanic\""
   ]
  },
  {
   "cell_type": "code",
   "execution_count": 1,
   "metadata": {},
   "outputs": [],
   "source": [
    "# cargando librerias que usare\n",
    "import pandas as pd # libreria de manejo de funciones para ciencia de datos\n",
    "import numpy as np # libreria para manejo de arreglos y otras operaciones matematicas\n",
    "import matplotlib.pyplot as plt # libraria para graficacion de datos\n",
    "import seaborn as sns # libreria para visualizacion de datos\n",
    "from sklearn.preprocessing import StandardScaler\n",
    "\n",
    "# paquetes de aprendizaje\n",
    "from sklearn.model_selection import train_test_split\n",
    "from sklearn.model_selection import KFold\n",
    "from sklearn.model_selection import cross_val_score\n",
    "from sklearn.naive_bayes import GaussianNB, BernoulliNB # especifico para datos numericos y que tengan\n",
    "\n",
    "#paquete para evaluacion de modelo\n",
    "from sklearn.metrics import accuracy_score\n",
    "from sklearn.metrics import classification_report\n",
    "from sklearn.metrics import confusion_matrix\n",
    "\n",
    "# paquetes para clustering\n",
    "from sklearn.cluster import KMeans\n",
    "\n",
    "import warnings\n",
    "warnings.filterwarnings('ignore')"
   ]
  },
  {
   "cell_type": "markdown",
   "metadata": {},
   "source": [
    "En esta libreta de jupyter haremos nuestro analisis de los datos recopilados en el conjuto de datos sobre el Titanic\n",
    "\n",
    "Link a la database: https://www.kaggle.com/brendan45774/test-file\n",
    "\n",
    "Primero, cargamos los datos"
   ]
  },
  {
   "cell_type": "code",
   "execution_count": 2,
   "metadata": {
    "pycharm": {
     "name": "#%%\n"
    }
   },
   "outputs": [],
   "source": [
    "titanic = pd.read_csv(\"titanic.csv\") # Leer conjunto de datos"
   ]
  },
  {
   "cell_type": "markdown",
   "metadata": {},
   "source": [
    "## Estadisticas Iniciales\n",
    "Estos datos tienen las siguientes estadisticas iniciales"
   ]
  },
  {
   "cell_type": "code",
   "execution_count": 3,
   "metadata": {
    "pycharm": {
     "name": "#%%\n"
    },
    "scrolled": false
   },
   "outputs": [
    {
     "data": {
      "text/html": [
       "<div>\n",
       "<style scoped>\n",
       "    .dataframe tbody tr th:only-of-type {\n",
       "        vertical-align: middle;\n",
       "    }\n",
       "\n",
       "    .dataframe tbody tr th {\n",
       "        vertical-align: top;\n",
       "    }\n",
       "\n",
       "    .dataframe thead th {\n",
       "        text-align: right;\n",
       "    }\n",
       "</style>\n",
       "<table border=\"1\" class=\"dataframe\">\n",
       "  <thead>\n",
       "    <tr style=\"text-align: right;\">\n",
       "      <th></th>\n",
       "      <th>PassengerId</th>\n",
       "      <th>Survived</th>\n",
       "      <th>Pclass</th>\n",
       "      <th>Age</th>\n",
       "      <th>SibSp</th>\n",
       "      <th>Parch</th>\n",
       "      <th>Fare</th>\n",
       "    </tr>\n",
       "  </thead>\n",
       "  <tbody>\n",
       "    <tr>\n",
       "      <th>count</th>\n",
       "      <td>418.000000</td>\n",
       "      <td>418.000000</td>\n",
       "      <td>418.000000</td>\n",
       "      <td>332.000000</td>\n",
       "      <td>418.000000</td>\n",
       "      <td>418.000000</td>\n",
       "      <td>417.000000</td>\n",
       "    </tr>\n",
       "    <tr>\n",
       "      <th>mean</th>\n",
       "      <td>1100.500000</td>\n",
       "      <td>0.363636</td>\n",
       "      <td>2.265550</td>\n",
       "      <td>30.272590</td>\n",
       "      <td>0.447368</td>\n",
       "      <td>0.392344</td>\n",
       "      <td>35.627188</td>\n",
       "    </tr>\n",
       "    <tr>\n",
       "      <th>std</th>\n",
       "      <td>120.810458</td>\n",
       "      <td>0.481622</td>\n",
       "      <td>0.841838</td>\n",
       "      <td>14.181209</td>\n",
       "      <td>0.896760</td>\n",
       "      <td>0.981429</td>\n",
       "      <td>55.907576</td>\n",
       "    </tr>\n",
       "    <tr>\n",
       "      <th>min</th>\n",
       "      <td>892.000000</td>\n",
       "      <td>0.000000</td>\n",
       "      <td>1.000000</td>\n",
       "      <td>0.170000</td>\n",
       "      <td>0.000000</td>\n",
       "      <td>0.000000</td>\n",
       "      <td>0.000000</td>\n",
       "    </tr>\n",
       "    <tr>\n",
       "      <th>25%</th>\n",
       "      <td>996.250000</td>\n",
       "      <td>0.000000</td>\n",
       "      <td>1.000000</td>\n",
       "      <td>21.000000</td>\n",
       "      <td>0.000000</td>\n",
       "      <td>0.000000</td>\n",
       "      <td>7.895800</td>\n",
       "    </tr>\n",
       "    <tr>\n",
       "      <th>50%</th>\n",
       "      <td>1100.500000</td>\n",
       "      <td>0.000000</td>\n",
       "      <td>3.000000</td>\n",
       "      <td>27.000000</td>\n",
       "      <td>0.000000</td>\n",
       "      <td>0.000000</td>\n",
       "      <td>14.454200</td>\n",
       "    </tr>\n",
       "    <tr>\n",
       "      <th>75%</th>\n",
       "      <td>1204.750000</td>\n",
       "      <td>1.000000</td>\n",
       "      <td>3.000000</td>\n",
       "      <td>39.000000</td>\n",
       "      <td>1.000000</td>\n",
       "      <td>0.000000</td>\n",
       "      <td>31.500000</td>\n",
       "    </tr>\n",
       "    <tr>\n",
       "      <th>max</th>\n",
       "      <td>1309.000000</td>\n",
       "      <td>1.000000</td>\n",
       "      <td>3.000000</td>\n",
       "      <td>76.000000</td>\n",
       "      <td>8.000000</td>\n",
       "      <td>9.000000</td>\n",
       "      <td>512.329200</td>\n",
       "    </tr>\n",
       "  </tbody>\n",
       "</table>\n",
       "</div>"
      ],
      "text/plain": [
       "       PassengerId    Survived      Pclass         Age       SibSp  \\\n",
       "count   418.000000  418.000000  418.000000  332.000000  418.000000   \n",
       "mean   1100.500000    0.363636    2.265550   30.272590    0.447368   \n",
       "std     120.810458    0.481622    0.841838   14.181209    0.896760   \n",
       "min     892.000000    0.000000    1.000000    0.170000    0.000000   \n",
       "25%     996.250000    0.000000    1.000000   21.000000    0.000000   \n",
       "50%    1100.500000    0.000000    3.000000   27.000000    0.000000   \n",
       "75%    1204.750000    1.000000    3.000000   39.000000    1.000000   \n",
       "max    1309.000000    1.000000    3.000000   76.000000    8.000000   \n",
       "\n",
       "            Parch        Fare  \n",
       "count  418.000000  417.000000  \n",
       "mean     0.392344   35.627188  \n",
       "std      0.981429   55.907576  \n",
       "min      0.000000    0.000000  \n",
       "25%      0.000000    7.895800  \n",
       "50%      0.000000   14.454200  \n",
       "75%      0.000000   31.500000  \n",
       "max      9.000000  512.329200  "
      ]
     },
     "execution_count": 3,
     "metadata": {},
     "output_type": "execute_result"
    }
   ],
   "source": [
    "titanic.describe()"
   ]
  },
  {
   "cell_type": "markdown",
   "metadata": {},
   "source": [
    "# Exploración visual de los datos\n",
    "Ahora procederemos a visualiar las estadística básicas de los datos."
   ]
  },
  {
   "cell_type": "code",
   "execution_count": 4,
   "metadata": {
    "scrolled": true
   },
   "outputs": [
    {
     "data": {
      "image/png": "[encoded data removed]",
      "text/plain": [
       "<Figure size 720x720 with 9 Axes>"
      ]
     },
     "metadata": {
      "needs_background": "light"
     },
     "output_type": "display_data"
    }
   ],
   "source": [
    "titanic.hist(figsize = (10, 10))\n",
    "plt.show()"
   ]
  },
  {
   "cell_type": "code",
   "execution_count": 5,
   "metadata": {
    "scrolled": true
   },
   "outputs": [
    {
     "data": {
      "image/png": "[encoded data removed]",
      "text/plain": [
       "<Figure size 720x720 with 9 Axes>"
      ]
     },
     "metadata": {
      "needs_background": "light"
     },
     "output_type": "display_data"
    }
   ],
   "source": [
    "titanic.plot(kind='box', subplots=True,layout=(3,3), sharex=False, figsize = (10,10))\n",
    "plt.show()"
   ]
  },
  {
   "cell_type": "code",
   "execution_count": 6,
   "metadata": {},
   "outputs": [
    {
     "name": "stdout",
     "output_type": "stream",
     "text": [
      "Index(['PassengerId', 'Survived', 'Pclass', 'Name', 'Sex', 'Age', 'SibSp',\n",
      "       'Parch', 'Ticket', 'Fare', 'Cabin'],\n",
      "      dtype='object')\n",
      "Index(['PassengerId', 'Survived', 'Pclass', 'Name', 'Sex', 'Age', 'SibSp',\n",
      "       'Parch', 'Ticket', 'Fare', 'Cabin', 'Embarked'],\n",
      "      dtype='object')\n"
     ]
    }
   ],
   "source": [
    "attributes = titanic.columns[0:len(titanic.columns)-1]\n",
    "print(attributes)\n",
    "print(titanic.columns)"
   ]
  },
  {
   "cell_type": "code",
   "execution_count": 7,
   "metadata": {
    "scrolled": true
   },
   "outputs": [
    {
     "name": "stdout",
     "output_type": "stream",
     "text": [
      "             PassengerId  Survived    Pclass       Age     SibSp     Parch  \\\n",
      "PassengerId     1.000000 -0.023245 -0.026751 -0.034102  0.003818  0.043080   \n",
      "Survived       -0.023245  1.000000 -0.108615 -0.000013  0.099943  0.159120   \n",
      "Pclass         -0.026751 -0.108615  1.000000 -0.492143  0.001087  0.018721   \n",
      "Age            -0.034102 -0.000013 -0.492143  1.000000 -0.091587 -0.061249   \n",
      "SibSp           0.003818  0.099943  0.001087 -0.091587  1.000000  0.306895   \n",
      "Parch           0.043080  0.159120  0.018721 -0.061249  0.306895  1.000000   \n",
      "Fare            0.008211  0.191514 -0.577147  0.337932  0.171539  0.230046   \n",
      "\n",
      "                 Fare  \n",
      "PassengerId  0.008211  \n",
      "Survived     0.191514  \n",
      "Pclass      -0.577147  \n",
      "Age          0.337932  \n",
      "SibSp        0.171539  \n",
      "Parch        0.230046  \n",
      "Fare         1.000000  \n"
     ]
    },
    {
     "data": {
      "image/png": "[encoded data removed]",
      "text/plain": [
       "<Figure size 432x288 with 2 Axes>"
      ]
     },
     "metadata": {
      "needs_background": "light"
     },
     "output_type": "display_data"
    }
   ],
   "source": [
    "correlation = titanic[titanic.columns].corr()\n",
    "print(correlation)\n",
    "sns.heatmap(correlation, annot=True)\n",
    "plt.show()"
   ]
  },
  {
   "cell_type": "code",
   "execution_count": 8,
   "metadata": {
    "scrolled": true
   },
   "outputs": [
    {
     "data": {
      "image/png": "[encoded data removed]",
      "text/plain": [
       "<Figure size 720x720 with 49 Axes>"
      ]
     },
     "metadata": {
      "needs_background": "light"
     },
     "output_type": "display_data"
    }
   ],
   "source": [
    "pd.plotting.scatter_matrix(titanic, figsize = (10, 10))\n",
    "plt.show()"
   ]
  },
  {
   "cell_type": "markdown",
   "metadata": {},
   "source": [
    "## Preprocesamiento de Datos"
   ]
  },
  {
   "cell_type": "markdown",
   "metadata": {},
   "source": [
    "La base de datos del titcanic cuenta con algunas columnas cuyos datos son strings, Name, Sex, Ticket, Cabin y Embarked. De estos datos, consideramos que los únicos relevantes, al momento de hacer análisis, son Sex y Embarked. Por ello se borraron las columnas de Name, Ticket y Cabin, y convertimos a numero las variables de Sex y Embarked."
   ]
  },
  {
   "cell_type": "code",
   "execution_count": 9,
   "metadata": {
    "scrolled": true
   },
   "outputs": [
    {
     "data": {
      "text/html": [
       "<div>\n",
       "<style scoped>\n",
       "    .dataframe tbody tr th:only-of-type {\n",
       "        vertical-align: middle;\n",
       "    }\n",
       "\n",
       "    .dataframe tbody tr th {\n",
       "        vertical-align: top;\n",
       "    }\n",
       "\n",
       "    .dataframe thead th {\n",
       "        text-align: right;\n",
       "    }\n",
       "</style>\n",
       "<table border=\"1\" class=\"dataframe\">\n",
       "  <thead>\n",
       "    <tr style=\"text-align: right;\">\n",
       "      <th></th>\n",
       "      <th>Survived</th>\n",
       "      <th>Pclass</th>\n",
       "      <th>Sex</th>\n",
       "      <th>Age</th>\n",
       "      <th>SibSp</th>\n",
       "      <th>Parch</th>\n",
       "      <th>Fare</th>\n",
       "      <th>Embarked</th>\n",
       "    </tr>\n",
       "  </thead>\n",
       "  <tbody>\n",
       "    <tr>\n",
       "      <th>0</th>\n",
       "      <td>0</td>\n",
       "      <td>3</td>\n",
       "      <td>0</td>\n",
       "      <td>34.5</td>\n",
       "      <td>0</td>\n",
       "      <td>0</td>\n",
       "      <td>7.8292</td>\n",
       "      <td>1</td>\n",
       "    </tr>\n",
       "    <tr>\n",
       "      <th>1</th>\n",
       "      <td>1</td>\n",
       "      <td>3</td>\n",
       "      <td>1</td>\n",
       "      <td>47.0</td>\n",
       "      <td>1</td>\n",
       "      <td>0</td>\n",
       "      <td>7.0000</td>\n",
       "      <td>0</td>\n",
       "    </tr>\n",
       "    <tr>\n",
       "      <th>2</th>\n",
       "      <td>0</td>\n",
       "      <td>2</td>\n",
       "      <td>0</td>\n",
       "      <td>62.0</td>\n",
       "      <td>0</td>\n",
       "      <td>0</td>\n",
       "      <td>9.6875</td>\n",
       "      <td>1</td>\n",
       "    </tr>\n",
       "    <tr>\n",
       "      <th>3</th>\n",
       "      <td>0</td>\n",
       "      <td>3</td>\n",
       "      <td>0</td>\n",
       "      <td>27.0</td>\n",
       "      <td>0</td>\n",
       "      <td>0</td>\n",
       "      <td>8.6625</td>\n",
       "      <td>0</td>\n",
       "    </tr>\n",
       "    <tr>\n",
       "      <th>4</th>\n",
       "      <td>1</td>\n",
       "      <td>3</td>\n",
       "      <td>1</td>\n",
       "      <td>22.0</td>\n",
       "      <td>1</td>\n",
       "      <td>1</td>\n",
       "      <td>12.2875</td>\n",
       "      <td>0</td>\n",
       "    </tr>\n",
       "    <tr>\n",
       "      <th>...</th>\n",
       "      <td>...</td>\n",
       "      <td>...</td>\n",
       "      <td>...</td>\n",
       "      <td>...</td>\n",
       "      <td>...</td>\n",
       "      <td>...</td>\n",
       "      <td>...</td>\n",
       "      <td>...</td>\n",
       "    </tr>\n",
       "    <tr>\n",
       "      <th>413</th>\n",
       "      <td>0</td>\n",
       "      <td>3</td>\n",
       "      <td>0</td>\n",
       "      <td>NaN</td>\n",
       "      <td>0</td>\n",
       "      <td>0</td>\n",
       "      <td>8.0500</td>\n",
       "      <td>0</td>\n",
       "    </tr>\n",
       "    <tr>\n",
       "      <th>414</th>\n",
       "      <td>1</td>\n",
       "      <td>1</td>\n",
       "      <td>1</td>\n",
       "      <td>39.0</td>\n",
       "      <td>0</td>\n",
       "      <td>0</td>\n",
       "      <td>108.9000</td>\n",
       "      <td>2</td>\n",
       "    </tr>\n",
       "    <tr>\n",
       "      <th>415</th>\n",
       "      <td>0</td>\n",
       "      <td>3</td>\n",
       "      <td>0</td>\n",
       "      <td>38.5</td>\n",
       "      <td>0</td>\n",
       "      <td>0</td>\n",
       "      <td>7.2500</td>\n",
       "      <td>0</td>\n",
       "    </tr>\n",
       "    <tr>\n",
       "      <th>416</th>\n",
       "      <td>0</td>\n",
       "      <td>3</td>\n",
       "      <td>0</td>\n",
       "      <td>NaN</td>\n",
       "      <td>0</td>\n",
       "      <td>0</td>\n",
       "      <td>8.0500</td>\n",
       "      <td>0</td>\n",
       "    </tr>\n",
       "    <tr>\n",
       "      <th>417</th>\n",
       "      <td>0</td>\n",
       "      <td>3</td>\n",
       "      <td>0</td>\n",
       "      <td>NaN</td>\n",
       "      <td>1</td>\n",
       "      <td>1</td>\n",
       "      <td>22.3583</td>\n",
       "      <td>2</td>\n",
       "    </tr>\n",
       "  </tbody>\n",
       "</table>\n",
       "<p>418 rows × 8 columns</p>\n",
       "</div>"
      ],
      "text/plain": [
       "     Survived  Pclass  Sex   Age  SibSp  Parch      Fare  Embarked\n",
       "0           0       3    0  34.5      0      0    7.8292         1\n",
       "1           1       3    1  47.0      1      0    7.0000         0\n",
       "2           0       2    0  62.0      0      0    9.6875         1\n",
       "3           0       3    0  27.0      0      0    8.6625         0\n",
       "4           1       3    1  22.0      1      1   12.2875         0\n",
       "..        ...     ...  ...   ...    ...    ...       ...       ...\n",
       "413         0       3    0   NaN      0      0    8.0500         0\n",
       "414         1       1    1  39.0      0      0  108.9000         2\n",
       "415         0       3    0  38.5      0      0    7.2500         0\n",
       "416         0       3    0   NaN      0      0    8.0500         0\n",
       "417         0       3    0   NaN      1      1   22.3583         2\n",
       "\n",
       "[418 rows x 8 columns]"
      ]
     },
     "execution_count": 9,
     "metadata": {},
     "output_type": "execute_result"
    }
   ],
   "source": [
    "# los valores de sex tendran un rango de 0 a 1\n",
    "titanic.replace('male', 0, inplace=True)\n",
    "titanic.replace('female', 1, inplace=True)\n",
    "# los valores de embarked tendran un rango de 0 a 2\n",
    "titanic.replace('S', 0, inplace=True) # Southhampton\n",
    "titanic.replace('Q', 1, inplace=True) # Queenstown\n",
    "titanic.replace('C', 2, inplace=True) # Cherbourg\n",
    "# borrar atributos no relevantes\n",
    "titanic.drop(['Name', 'PassengerId', 'Ticket', 'Cabin'], inplace=True, axis=1)\n",
    "titanic"
   ]
  },
  {
   "cell_type": "markdown",
   "metadata": {},
   "source": [
    "Como existen algunos datos que contienen valores de NaN, debemos eliminarlos para que tengan valores utiles para el procesamiento de datos."
   ]
  },
  {
   "cell_type": "code",
   "execution_count": 10,
   "metadata": {
    "scrolled": true
   },
   "outputs": [
    {
     "data": {
      "text/html": [
       "<div>\n",
       "<style scoped>\n",
       "    .dataframe tbody tr th:only-of-type {\n",
       "        vertical-align: middle;\n",
       "    }\n",
       "\n",
       "    .dataframe tbody tr th {\n",
       "        vertical-align: top;\n",
       "    }\n",
       "\n",
       "    .dataframe thead th {\n",
       "        text-align: right;\n",
       "    }\n",
       "</style>\n",
       "<table border=\"1\" class=\"dataframe\">\n",
       "  <thead>\n",
       "    <tr style=\"text-align: right;\">\n",
       "      <th></th>\n",
       "      <th>Survived</th>\n",
       "      <th>Pclass</th>\n",
       "      <th>Sex</th>\n",
       "      <th>Age</th>\n",
       "      <th>SibSp</th>\n",
       "      <th>Parch</th>\n",
       "      <th>Fare</th>\n",
       "      <th>Embarked</th>\n",
       "    </tr>\n",
       "  </thead>\n",
       "  <tbody>\n",
       "    <tr>\n",
       "      <th>0</th>\n",
       "      <td>0</td>\n",
       "      <td>3</td>\n",
       "      <td>0</td>\n",
       "      <td>34.5</td>\n",
       "      <td>0</td>\n",
       "      <td>0</td>\n",
       "      <td>7.8292</td>\n",
       "      <td>1</td>\n",
       "    </tr>\n",
       "    <tr>\n",
       "      <th>1</th>\n",
       "      <td>1</td>\n",
       "      <td>3</td>\n",
       "      <td>1</td>\n",
       "      <td>47.0</td>\n",
       "      <td>1</td>\n",
       "      <td>0</td>\n",
       "      <td>7.0000</td>\n",
       "      <td>0</td>\n",
       "    </tr>\n",
       "    <tr>\n",
       "      <th>2</th>\n",
       "      <td>0</td>\n",
       "      <td>2</td>\n",
       "      <td>0</td>\n",
       "      <td>62.0</td>\n",
       "      <td>0</td>\n",
       "      <td>0</td>\n",
       "      <td>9.6875</td>\n",
       "      <td>1</td>\n",
       "    </tr>\n",
       "    <tr>\n",
       "      <th>3</th>\n",
       "      <td>0</td>\n",
       "      <td>3</td>\n",
       "      <td>0</td>\n",
       "      <td>27.0</td>\n",
       "      <td>0</td>\n",
       "      <td>0</td>\n",
       "      <td>8.6625</td>\n",
       "      <td>0</td>\n",
       "    </tr>\n",
       "    <tr>\n",
       "      <th>4</th>\n",
       "      <td>1</td>\n",
       "      <td>3</td>\n",
       "      <td>1</td>\n",
       "      <td>22.0</td>\n",
       "      <td>1</td>\n",
       "      <td>1</td>\n",
       "      <td>12.2875</td>\n",
       "      <td>0</td>\n",
       "    </tr>\n",
       "    <tr>\n",
       "      <th>...</th>\n",
       "      <td>...</td>\n",
       "      <td>...</td>\n",
       "      <td>...</td>\n",
       "      <td>...</td>\n",
       "      <td>...</td>\n",
       "      <td>...</td>\n",
       "      <td>...</td>\n",
       "      <td>...</td>\n",
       "    </tr>\n",
       "    <tr>\n",
       "      <th>409</th>\n",
       "      <td>1</td>\n",
       "      <td>3</td>\n",
       "      <td>1</td>\n",
       "      <td>3.0</td>\n",
       "      <td>1</td>\n",
       "      <td>1</td>\n",
       "      <td>13.7750</td>\n",
       "      <td>0</td>\n",
       "    </tr>\n",
       "    <tr>\n",
       "      <th>411</th>\n",
       "      <td>1</td>\n",
       "      <td>1</td>\n",
       "      <td>1</td>\n",
       "      <td>37.0</td>\n",
       "      <td>1</td>\n",
       "      <td>0</td>\n",
       "      <td>90.0000</td>\n",
       "      <td>1</td>\n",
       "    </tr>\n",
       "    <tr>\n",
       "      <th>412</th>\n",
       "      <td>1</td>\n",
       "      <td>3</td>\n",
       "      <td>1</td>\n",
       "      <td>28.0</td>\n",
       "      <td>0</td>\n",
       "      <td>0</td>\n",
       "      <td>7.7750</td>\n",
       "      <td>0</td>\n",
       "    </tr>\n",
       "    <tr>\n",
       "      <th>414</th>\n",
       "      <td>1</td>\n",
       "      <td>1</td>\n",
       "      <td>1</td>\n",
       "      <td>39.0</td>\n",
       "      <td>0</td>\n",
       "      <td>0</td>\n",
       "      <td>108.9000</td>\n",
       "      <td>2</td>\n",
       "    </tr>\n",
       "    <tr>\n",
       "      <th>415</th>\n",
       "      <td>0</td>\n",
       "      <td>3</td>\n",
       "      <td>0</td>\n",
       "      <td>38.5</td>\n",
       "      <td>0</td>\n",
       "      <td>0</td>\n",
       "      <td>7.2500</td>\n",
       "      <td>0</td>\n",
       "    </tr>\n",
       "  </tbody>\n",
       "</table>\n",
       "<p>331 rows × 8 columns</p>\n",
       "</div>"
      ],
      "text/plain": [
       "     Survived  Pclass  Sex   Age  SibSp  Parch      Fare  Embarked\n",
       "0           0       3    0  34.5      0      0    7.8292         1\n",
       "1           1       3    1  47.0      1      0    7.0000         0\n",
       "2           0       2    0  62.0      0      0    9.6875         1\n",
       "3           0       3    0  27.0      0      0    8.6625         0\n",
       "4           1       3    1  22.0      1      1   12.2875         0\n",
       "..        ...     ...  ...   ...    ...    ...       ...       ...\n",
       "409         1       3    1   3.0      1      1   13.7750         0\n",
       "411         1       1    1  37.0      1      0   90.0000         1\n",
       "412         1       3    1  28.0      0      0    7.7750         0\n",
       "414         1       1    1  39.0      0      0  108.9000         2\n",
       "415         0       3    0  38.5      0      0    7.2500         0\n",
       "\n",
       "[331 rows x 8 columns]"
      ]
     },
     "execution_count": 10,
     "metadata": {},
     "output_type": "execute_result"
    }
   ],
   "source": [
    "col = titanic.columns # obtengo lista de labels de las columnas\n",
    "\n",
    "titanic.dropna(subset = col, inplace=True) # eliminar filas con algun valor NaN\n",
    "\n",
    "titanic"
   ]
  },
  {
   "cell_type": "markdown",
   "metadata": {},
   "source": [
    "Una vez hemos limpiado la base de datos, continuamos separando los atributos en la base de datos (X) de la clase (Y)."
   ]
  },
  {
   "cell_type": "code",
   "execution_count": 11,
   "metadata": {
    "scrolled": true
   },
   "outputs": [
    {
     "data": {
      "text/html": [
       "<div>\n",
       "<style scoped>\n",
       "    .dataframe tbody tr th:only-of-type {\n",
       "        vertical-align: middle;\n",
       "    }\n",
       "\n",
       "    .dataframe tbody tr th {\n",
       "        vertical-align: top;\n",
       "    }\n",
       "\n",
       "    .dataframe thead th {\n",
       "        text-align: right;\n",
       "    }\n",
       "</style>\n",
       "<table border=\"1\" class=\"dataframe\">\n",
       "  <thead>\n",
       "    <tr style=\"text-align: right;\">\n",
       "      <th></th>\n",
       "      <th>Pclass</th>\n",
       "      <th>Sex</th>\n",
       "      <th>Age</th>\n",
       "      <th>SibSp</th>\n",
       "      <th>Parch</th>\n",
       "      <th>Fare</th>\n",
       "      <th>Embarked</th>\n",
       "    </tr>\n",
       "  </thead>\n",
       "  <tbody>\n",
       "    <tr>\n",
       "      <th>0</th>\n",
       "      <td>3</td>\n",
       "      <td>0</td>\n",
       "      <td>34.5</td>\n",
       "      <td>0</td>\n",
       "      <td>0</td>\n",
       "      <td>7.8292</td>\n",
       "      <td>1</td>\n",
       "    </tr>\n",
       "    <tr>\n",
       "      <th>1</th>\n",
       "      <td>3</td>\n",
       "      <td>1</td>\n",
       "      <td>47.0</td>\n",
       "      <td>1</td>\n",
       "      <td>0</td>\n",
       "      <td>7.0000</td>\n",
       "      <td>0</td>\n",
       "    </tr>\n",
       "    <tr>\n",
       "      <th>2</th>\n",
       "      <td>2</td>\n",
       "      <td>0</td>\n",
       "      <td>62.0</td>\n",
       "      <td>0</td>\n",
       "      <td>0</td>\n",
       "      <td>9.6875</td>\n",
       "      <td>1</td>\n",
       "    </tr>\n",
       "    <tr>\n",
       "      <th>3</th>\n",
       "      <td>3</td>\n",
       "      <td>0</td>\n",
       "      <td>27.0</td>\n",
       "      <td>0</td>\n",
       "      <td>0</td>\n",
       "      <td>8.6625</td>\n",
       "      <td>0</td>\n",
       "    </tr>\n",
       "    <tr>\n",
       "      <th>4</th>\n",
       "      <td>3</td>\n",
       "      <td>1</td>\n",
       "      <td>22.0</td>\n",
       "      <td>1</td>\n",
       "      <td>1</td>\n",
       "      <td>12.2875</td>\n",
       "      <td>0</td>\n",
       "    </tr>\n",
       "    <tr>\n",
       "      <th>...</th>\n",
       "      <td>...</td>\n",
       "      <td>...</td>\n",
       "      <td>...</td>\n",
       "      <td>...</td>\n",
       "      <td>...</td>\n",
       "      <td>...</td>\n",
       "      <td>...</td>\n",
       "    </tr>\n",
       "    <tr>\n",
       "      <th>409</th>\n",
       "      <td>3</td>\n",
       "      <td>1</td>\n",
       "      <td>3.0</td>\n",
       "      <td>1</td>\n",
       "      <td>1</td>\n",
       "      <td>13.7750</td>\n",
       "      <td>0</td>\n",
       "    </tr>\n",
       "    <tr>\n",
       "      <th>411</th>\n",
       "      <td>1</td>\n",
       "      <td>1</td>\n",
       "      <td>37.0</td>\n",
       "      <td>1</td>\n",
       "      <td>0</td>\n",
       "      <td>90.0000</td>\n",
       "      <td>1</td>\n",
       "    </tr>\n",
       "    <tr>\n",
       "      <th>412</th>\n",
       "      <td>3</td>\n",
       "      <td>1</td>\n",
       "      <td>28.0</td>\n",
       "      <td>0</td>\n",
       "      <td>0</td>\n",
       "      <td>7.7750</td>\n",
       "      <td>0</td>\n",
       "    </tr>\n",
       "    <tr>\n",
       "      <th>414</th>\n",
       "      <td>1</td>\n",
       "      <td>1</td>\n",
       "      <td>39.0</td>\n",
       "      <td>0</td>\n",
       "      <td>0</td>\n",
       "      <td>108.9000</td>\n",
       "      <td>2</td>\n",
       "    </tr>\n",
       "    <tr>\n",
       "      <th>415</th>\n",
       "      <td>3</td>\n",
       "      <td>0</td>\n",
       "      <td>38.5</td>\n",
       "      <td>0</td>\n",
       "      <td>0</td>\n",
       "      <td>7.2500</td>\n",
       "      <td>0</td>\n",
       "    </tr>\n",
       "  </tbody>\n",
       "</table>\n",
       "<p>331 rows × 7 columns</p>\n",
       "</div>"
      ],
      "text/plain": [
       "     Pclass  Sex   Age  SibSp  Parch      Fare  Embarked\n",
       "0         3    0  34.5      0      0    7.8292         1\n",
       "1         3    1  47.0      1      0    7.0000         0\n",
       "2         2    0  62.0      0      0    9.6875         1\n",
       "3         3    0  27.0      0      0    8.6625         0\n",
       "4         3    1  22.0      1      1   12.2875         0\n",
       "..      ...  ...   ...    ...    ...       ...       ...\n",
       "409       3    1   3.0      1      1   13.7750         0\n",
       "411       1    1  37.0      1      0   90.0000         1\n",
       "412       3    1  28.0      0      0    7.7750         0\n",
       "414       1    1  39.0      0      0  108.9000         2\n",
       "415       3    0  38.5      0      0    7.2500         0\n",
       "\n",
       "[331 rows x 7 columns]"
      ]
     },
     "execution_count": 11,
     "metadata": {},
     "output_type": "execute_result"
    }
   ],
   "source": [
    "# comienzo separando los atributos de la clase\n",
    "X = titanic.iloc[:,1:]\n",
    "X # almacena todos los atributos"
   ]
  },
  {
   "cell_type": "code",
   "execution_count": 12,
   "metadata": {
    "scrolled": false
   },
   "outputs": [
    {
     "data": {
      "text/plain": [
       "0      0\n",
       "1      1\n",
       "2      0\n",
       "3      0\n",
       "4      1\n",
       "      ..\n",
       "409    1\n",
       "411    1\n",
       "412    1\n",
       "414    1\n",
       "415    0\n",
       "Name: Survived, Length: 331, dtype: int64"
      ]
     },
     "execution_count": 12,
     "metadata": {},
     "output_type": "execute_result"
    }
   ],
   "source": [
    "# separando la clase\n",
    "Y = titanic.iloc[:,0]\n",
    "Y # almacena la clase"
   ]
  },
  {
   "cell_type": "markdown",
   "metadata": {},
   "source": [
    "Terminamos con el preprocesamiento con una estandarizacion de los datos."
   ]
  },
  {
   "cell_type": "code",
   "execution_count": 13,
   "metadata": {
    "scrolled": true
   },
   "outputs": [],
   "source": [
    "# estandarizacion/escalamiento de los datos\n",
    "rescaledX = StandardScaler().fit_transform(X)\n",
    "Xnuevo = pd.DataFrame(data = rescaledX, columns=X.columns)"
   ]
  },
  {
   "cell_type": "markdown",
   "metadata": {},
   "source": [
    "## Entrenamiento de Modelo"
   ]
  },
  {
   "cell_type": "markdown",
   "metadata": {},
   "source": [
    "Una vez finalizada la limpieza, la separación y la estandarización de los datos, podemos continuar con el entrenamiento del modelo predictivo."
   ]
  },
  {
   "cell_type": "code",
   "execution_count": 14,
   "metadata": {},
   "outputs": [],
   "source": [
    "# separacion de mis datos para entrenamiento y prueba\n",
    "X_train, X_test, Y_train, Y_test = train_test_split(Xnuevo, Y, random_state=11, test_size=0.1, train_size=0.9)"
   ]
  },
  {
   "cell_type": "code",
   "execution_count": 15,
   "metadata": {},
   "outputs": [
    {
     "name": "stdout",
     "output_type": "stream",
     "text": [
      "Accuracy of  Naive Bayes  =  1.0\n",
      "Accuracy of  Bernoulli  =  1.0\n"
     ]
    }
   ],
   "source": [
    "# entrenamiento del modelo de aprencizaje con validacion cruzada con 10 folds\n",
    "models = [] # lista de modelos de aprendizaje predictivo\n",
    "models.append((\"Naive Bayes\", GaussianNB()))\n",
    "models.append((\"Bernoulli\", BernoulliNB()))\n",
    "\n",
    "results = []\n",
    "names = []\n",
    "\n",
    "for name, model in models:\n",
    "    kfold = KFold(n_splits=10)\n",
    "    cv_result = cross_val_score(model, X_train, Y_train, cv=kfold, scoring=\"accuracy\")\n",
    "    names.append(name)\n",
    "    results.append(cv_result)\n",
    "\n",
    "for i in range(len(names)):\n",
    "    print(\"Accuracy of \", names[i], \" = \", results[i].mean())"
   ]
  },
  {
   "cell_type": "code",
   "execution_count": 16,
   "metadata": {
    "scrolled": false
   },
   "outputs": [
    {
     "data": {
      "image/png": "[encoded data removed]",
      "text/plain": [
       "<Figure size 432x288 with 1 Axes>"
      ]
     },
     "metadata": {
      "needs_background": "light"
     },
     "output_type": "display_data"
    }
   ],
   "source": [
    "# impresión de los resultados de los modelos\n",
    "ax = sns.boxplot(data = results)\n",
    "ax.set_xticklabels(names)\n",
    "plt.show()"
   ]
  },
  {
   "cell_type": "code",
   "execution_count": 17,
   "metadata": {},
   "outputs": [
    {
     "data": {
      "text/plain": [
       "array([1, 1, 0, 1, 0, 0, 0, 0, 1, 1, 0, 1, 1, 0, 0, 1, 0, 0, 1, 1, 1, 0,\n",
       "       0, 0, 0, 0, 1, 0, 1, 0, 1, 0, 0, 0], dtype=int64)"
      ]
     },
     "execution_count": 17,
     "metadata": {},
     "output_type": "execute_result"
    }
   ],
   "source": [
    "pruebaNaive = GaussianNB() # cargo nuevamente el modelo\n",
    "pruebaNaive.fit(X_train, Y_train) # genero el modelo con los datos de entrenamiento\n",
    "naive_prediction = pruebaNaive.predict(X_test) # hacemos la prediccion propiamente dicha\n",
    "\n",
    "naive_prediction"
   ]
  },
  {
   "cell_type": "code",
   "execution_count": 18,
   "metadata": {
    "scrolled": true
   },
   "outputs": [
    {
     "name": "stdout",
     "output_type": "stream",
     "text": [
      "284    1\n",
      "345    1\n",
      "128    0\n",
      "213    1\n",
      "302    0\n",
      "126    0\n",
      "281    0\n",
      "295    0\n",
      "197    1\n",
      "15     1\n",
      "370    0\n",
      "248    1\n",
      "362    1\n",
      "373    0\n",
      "194    0\n",
      "309    1\n",
      "277    0\n",
      "404    0\n",
      "141    1\n",
      "63     1\n",
      "305    1\n",
      "341    0\n",
      "293    0\n",
      "21     0\n",
      "17     0\n",
      "71     0\n",
      "122    1\n",
      "298    0\n",
      "385    1\n",
      "190    0\n",
      "104    1\n",
      "388    0\n",
      "13     0\n",
      "221    0\n",
      "Name: Survived, dtype: int64\n"
     ]
    }
   ],
   "source": [
    "print(Y_test)"
   ]
  },
  {
   "cell_type": "code",
   "execution_count": 19,
   "metadata": {},
   "outputs": [
    {
     "name": "stdout",
     "output_type": "stream",
     "text": [
      "Analisis de precision de la etapa de pruebas\n"
     ]
    },
    {
     "data": {
      "text/plain": [
       "1.0"
      ]
     },
     "execution_count": 19,
     "metadata": {},
     "output_type": "execute_result"
    }
   ],
   "source": [
    "print(\"Analisis de precision de la etapa de pruebas\")\n",
    "accuracy_score(Y_test, naive_prediction)"
   ]
  },
  {
   "cell_type": "code",
   "execution_count": 20,
   "metadata": {
    "scrolled": false
   },
   "outputs": [
    {
     "name": "stdout",
     "output_type": "stream",
     "text": [
      "              precision    recall  f1-score   support\n",
      "\n",
      "           0       1.00      1.00      1.00        20\n",
      "           1       1.00      1.00      1.00        14\n",
      "\n",
      "    accuracy                           1.00        34\n",
      "   macro avg       1.00      1.00      1.00        34\n",
      "weighted avg       1.00      1.00      1.00        34\n",
      "\n"
     ]
    }
   ],
   "source": [
    "print(classification_report(Y_test, naive_prediction))"
   ]
  },
  {
   "cell_type": "markdown",
   "metadata": {},
   "source": [
    "## Analisis de Datos por Clustering"
   ]
  },
  {
   "cell_type": "code",
   "execution_count": 33,
   "metadata": {
    "scrolled": true
   },
   "outputs": [
    {
     "data": {
      "text/plain": [
       "array([[  1.125     ,   0.5       ,  37.86607143,   0.75      ,\n",
       "          0.46428571,  81.14070179,   1.125     ],\n",
       "       [  2.45490196,   0.3372549 ,  27.42745098,   0.40392157,\n",
       "          0.34117647,  16.24914941,   0.38823529],\n",
       "       [  1.        ,   0.65      ,  43.775     ,   0.75      ,\n",
       "          0.95      , 243.882925  ,   1.2       ]])"
      ]
     },
     "execution_count": 33,
     "metadata": {},
     "output_type": "execute_result"
    }
   ],
   "source": [
    "k = 3\n",
    "kmeans = KMeans(n_clusters = k, init='random') # instanciacion del modelo k-means\n",
    "kmeans.fit(X) # realizo el clustering sobre los datos\n",
    "centros = kmeans.cluster_centers_\n",
    "centros"
   ]
  },
  {
   "cell_type": "code",
   "execution_count": 34,
   "metadata": {
    "scrolled": true
   },
   "outputs": [
    {
     "data": {
      "text/plain": [
       "array([[245.0226548 ,  76.311592  ,  11.04450907],\n",
       "       [245.69739393,  77.57864041,  21.6792583 ],\n",
       "       [243.6617566 ,  78.11136301,  35.20356339],\n",
       "       [244.59406487,  76.21015978,   7.65383022],\n",
       "       [241.37432303,  73.55216021,   6.84312339],\n",
       "       [245.27131388,  78.61353482,  15.18144487],\n",
       "       [245.43378202,  76.8522714 ,   9.07258008],\n",
       "       [224.37741822,  56.3566043 ,  12.87954069],\n",
       "       [246.7986926 ,  79.4092335 ,  13.18521982],\n",
       "       [229.66665977,  62.31508167,  10.34219673],\n",
       "       [226.68156999,  58.58732848,  21.03994833],\n",
       "       [171.66985747,  15.21983837,  66.18986113],\n",
       "       [227.48316361,  63.17989551,  36.89753982],\n",
       "       [191.52181999,  24.57429839,  49.03667132],\n",
       "       [225.81770495,  58.05440486,  12.12690606],\n",
       "       [240.48034978,  71.75562997,   8.57445926],\n",
       "       [246.50792345,  78.70901742,  11.22655829],\n",
       "       [245.32796741,  76.93642458,   8.41623302],\n",
       "       [245.45296153,  77.15058568,  19.84548951],\n",
       "       [193.59145103,  29.91427552,  51.2595488 ],\n",
       "       [251.92134685,  85.95438264,  22.62239982],\n",
       "       [192.64187026,  28.38925115,  45.6449237 ],\n",
       "       [ 10.79494561, 178.64520346, 247.00960003],\n",
       "       [238.25830898,  70.58269123,  22.66302723],\n",
       "       [191.92906441,  27.31319397,  46.11340053],\n",
       "       [246.37367891,  78.39756621,  10.44046254],\n",
       "       [222.18883225,  53.62908036,  19.74744517],\n",
       "       [226.75655265,  59.26439202,  24.60776647],\n",
       "       [222.06041958,  54.41385373,  15.7312153 ],\n",
       "       [232.35384339,  63.7122339 ,   7.33214706],\n",
       "       [195.40577386,  27.51136816,  41.64419029],\n",
       "       [246.74758853,  79.28439961,  12.81979253],\n",
       "       [245.07874225,  77.30920121,  10.00180079],\n",
       "       [243.90465389,  75.70134974,   7.23081527],\n",
       "       [239.30554249,  70.65594997,  12.0645149 ],\n",
       "       [244.84456534,  76.27206288,  15.98752486],\n",
       "       [240.06916453,  71.50445894,   4.27216899],\n",
       "       [200.11921178,  32.25638912,  40.37362488],\n",
       "       [245.47489221,  77.25242756,   8.71923936],\n",
       "       [222.97129727,  54.78626801,  22.24472254],\n",
       "       [177.11883462,  23.30368481,  68.34846115],\n",
       "       [236.90695338,  68.21663134,   8.79843394],\n",
       "       [193.68627386,  27.87035559,  43.91739138],\n",
       "       [238.23005658,  69.89418807,   2.20431855],\n",
       "       [230.90247649,  63.67606999,  10.22347397],\n",
       "       [ 19.09205432, 179.27955119, 246.77623081],\n",
       "       [226.11229566,  61.77697376,  21.99214708],\n",
       "       [244.94102375,  76.23106929,  11.31207755],\n",
       "       [245.74906706,  77.52334959,   8.98215132],\n",
       "       [ 12.54670234, 178.36432619, 246.28612676],\n",
       "       [246.24602559,  79.02751634,  13.39221168],\n",
       "       [239.46378091,  70.80867506,   5.40527375],\n",
       "       [246.28416359,  78.90785131,  12.72609626],\n",
       "       [245.91805757,  78.00389953,  10.17391372],\n",
       "       [ 32.35270495, 180.1132453 , 246.56888104],\n",
       "       [246.15162103,  78.77552344,  12.6618742 ],\n",
       "       [210.29586986,  42.6028445 ,  32.70492964],\n",
       "       [224.49608949,  55.95434184,  12.99517167],\n",
       "       [ 19.4951813 , 180.35076616, 248.92449099],\n",
       "       [245.72387464,  77.59221899,   9.23975833],\n",
       "       [245.84275599,  78.05680995,  10.5797791 ],\n",
       "       [245.20021396,  76.67760303,   8.53996589],\n",
       "       [225.46734743,  57.12919532,  11.74124988],\n",
       "       [ 42.1194749 , 127.51624249, 195.41154384],\n",
       "       [ 42.71605409, 127.6007203 , 195.3298063 ],\n",
       "       [227.2480522 ,  60.76454573,  29.23926472],\n",
       "       [240.06985878,  71.50445894,   4.23390336],\n",
       "       [245.72387464,  77.59221899,   9.23975833],\n",
       "       [240.41815734,  75.91968999,  21.53927533],\n",
       "       [ 38.6656491 , 140.76462063, 209.31182778],\n",
       "       [226.73045856,  59.06871413,  23.73003834],\n",
       "       [245.37139307,  76.97724915,   8.46338824],\n",
       "       [245.9851589 ,  78.61788801,  12.54071476],\n",
       "       [233.44344612,  70.90343477,  26.33229971],\n",
       "       [239.77062911,  71.97978173,   6.02781283],\n",
       "       [201.37230719,  33.94079353,  35.83461643],\n",
       "       [227.44677217,  59.49508142,  10.29948666],\n",
       "       [245.60370431,  77.37970808,   8.8426686 ],\n",
       "       [176.77728251,  38.31390222,  79.25488894],\n",
       "       [245.20089368,  76.67760303,   8.5208877 ],\n",
       "       [245.97826077,  78.32191381,  11.26094345],\n",
       "       [244.86703548,  76.18373823,   9.95592824],\n",
       "       [197.22651952,  29.03358016,  42.23962324],\n",
       "       [227.29406003,  59.09351931,   9.80841046],\n",
       "       [245.54990398,  77.23775124,   8.64233637],\n",
       "       [245.73344955,  78.69914358,  13.94635853],\n",
       "       [230.69658474,  62.3661253 ,   6.36830169],\n",
       "       [245.91403912,  78.12245894,  10.64959543],\n",
       "       [241.00480259,  73.69209984,   9.53977517],\n",
       "       [237.64061885,  69.06361679,  13.74263995],\n",
       "       [221.12600147,  52.40694055,  17.80472881],\n",
       "       [246.69242555,  79.22677422,  12.70732111],\n",
       "       [ 36.40252095, 139.99700418, 208.59335164],\n",
       "       [239.61440233,  72.44173098,   9.77645357],\n",
       "       [239.82609926,  76.88833928,  26.46299074],\n",
       "       [177.59944473,   9.12724484,  59.65498673],\n",
       "       [227.15420791,  58.75204375,   9.94085519],\n",
       "       [239.04732268,  73.10245983,  15.47035363],\n",
       "       [195.11542115,  26.48153942,  42.25268708],\n",
       "       [245.9368631 ,  77.47109079,   9.0638654 ],\n",
       "       [238.0900054 ,  71.15842752,  10.49944142],\n",
       "       [245.85160749,  77.94216632,  10.08749195],\n",
       "       [239.679377  ,  71.15784828,  14.95550448],\n",
       "       [245.42894097,  77.30490397,   8.93390311],\n",
       "       [244.91320131,  76.25668928,   9.43267772],\n",
       "       [224.35654778,  57.51866112,  28.44549918],\n",
       "       [244.78401955,  76.32961684,  17.6953068 ],\n",
       "       [245.62409015,  77.49735108,   9.1139316 ],\n",
       "       [246.06004392,  77.70261019,   9.25114318],\n",
       "       [240.33306376,  72.06504289,   3.65315556],\n",
       "       [245.51098314,  77.49302464,   9.38056591],\n",
       "       [205.87365677,  37.65494942,  33.62265342],\n",
       "       [208.58029708,  46.81141964,  35.60833346],\n",
       "       [101.70542089,  67.727872  , 135.42658426],\n",
       "       [ 19.87258764, 179.83753711, 248.42967474],\n",
       "       [227.22353349,  58.9186396 ,   9.80601126],\n",
       "       [226.12817684,  57.6318465 ,  17.92002983],\n",
       "       [235.03751671,  66.48157077,   4.82143218],\n",
       "       [245.59842688,  77.69356188,   9.87544574],\n",
       "       [227.08975405,  58.60674808,  10.14681511],\n",
       "       [170.77970411,  15.14941994,  67.09834359],\n",
       "       [240.62142222,  71.92874167,   9.68615847],\n",
       "       [223.44846223,  58.45474754,  21.29709077],\n",
       "       [245.92728106,  77.79637513,   9.39488021],\n",
       "       [ 34.29980852, 138.05704396, 205.54333085],\n",
       "       [245.70606716,  77.68500572,   9.55217993],\n",
       "       [226.12817684,  57.6318465 ,  17.92002983],\n",
       "       [239.56579878,  71.33564667,   3.45846343],\n",
       "       [240.26293777,  75.50283861,  20.54471902],\n",
       "       [239.8337668 ,  71.57228934,   3.26678532],\n",
       "       [239.68899614,  71.10949347,  13.98291873],\n",
       "       [231.33662712,  63.20691399,   6.08888445],\n",
       "       [202.21637922,  35.00082927,  40.0146307 ],\n",
       "       [219.82738189,  53.63505302,  20.5738682 ],\n",
       "       [244.68892249,  76.80144998,   9.1498157 ],\n",
       "       [246.02538417,  77.62979637,   9.21445599],\n",
       "       [239.68244993,  71.76327953,   5.1141114 ],\n",
       "       [221.35804016,  52.91837169,  20.24500415],\n",
       "       [215.60593716,  50.63980702,  25.99527807],\n",
       "       [217.23123246,  50.63927625,  21.82952932],\n",
       "       [197.48901517,  32.75089603,  47.407345  ],\n",
       "       [213.82255916,  45.17659281,  24.47691132],\n",
       "       [170.70926097,  26.03124304,  76.30500887],\n",
       "       [240.06985878,  71.50445894,   4.23390336],\n",
       "       [169.64353674,   1.82551656,  67.63198763],\n",
       "       [201.23135589,  36.88732262,  38.07939639],\n",
       "       [ 17.59172453, 163.8711162 , 231.284894  ],\n",
       "       [236.70329729,  68.07726434,  12.6048412 ],\n",
       "       [232.78982725,  65.31920038,   8.07940604],\n",
       "       [246.09455852,  78.88553409,  13.38593486],\n",
       "       [239.70278676,  71.07517676,  13.01448877],\n",
       "       [226.88391734,  58.1910577 ,  11.79917802],\n",
       "       [240.35660918,  74.46396322,  16.0653097 ],\n",
       "       [240.9334135 ,  75.27106019,  33.81262931],\n",
       "       [223.06589569,  59.69795934,  25.39492563],\n",
       "       [245.06263212,  76.37901032,  10.11778788],\n",
       "       [124.07308966,  59.82735182, 120.20874525],\n",
       "       [246.25862605,  78.88368484,  12.72221222],\n",
       "       [243.06455398,  75.07410673,   7.30794078],\n",
       "       [242.21265996,  79.24314549,  27.2243944 ],\n",
       "       [ 25.37788274, 143.78019868, 212.19300105],\n",
       "       [229.47955792,  65.3712941 ,  21.77363521],\n",
       "       [242.90153391,  74.69859518,   6.30049161],\n",
       "       [245.08263983,  76.36900458,  11.4441781 ],\n",
       "       [242.98099985,  74.87990927,   6.74915524],\n",
       "       [225.20588674,  56.55043638,  12.96477459],\n",
       "       [245.50400451,  77.28119319,   8.74712056],\n",
       "       [230.45708877,  61.84699529,   7.8189295 ],\n",
       "       [181.16999853,  23.60809581,  58.19916309],\n",
       "       [227.24895979,  62.05691956,  34.01938626],\n",
       "       [244.99156405,  76.37034004,  14.14781136],\n",
       "       [210.1793661 ,  41.74075043,  30.06870637],\n",
       "       [ 88.79452935,  83.03875254, 151.54168589],\n",
       "       [ 41.63325526, 128.03580734, 196.56642068],\n",
       "       [239.20837547,  70.64609268,   4.00622423],\n",
       "       [245.68923134,  77.9064198 ,  10.45845737],\n",
       "       [243.15150663,  75.28108787,   7.97410751],\n",
       "       [245.94231847,  78.15434716,  10.65891157],\n",
       "       [225.40910089,  58.53701854,  28.01345316],\n",
       "       [245.76493198,  77.74227036,   9.58658395],\n",
       "       [237.6019737 ,  69.01247891,  13.15497   ],\n",
       "       [239.79964643,  71.07857279,   9.20850291],\n",
       "       [190.02740406,  30.72339409,  50.5736377 ],\n",
       "       [227.26735876,  59.97469645,  12.26400833],\n",
       "       [247.2355393 ,  79.41984913,  11.72489919],\n",
       "       [181.44819603,  12.83310324,  56.28482565],\n",
       "       [245.97893834,  78.32191381,  11.24648199],\n",
       "       [178.56357687,  27.40982942,  69.45467363],\n",
       "       [246.60244815,  78.93180672,  11.82753199],\n",
       "       [241.05389758,  73.8235879 ,  10.05087336],\n",
       "       [146.30313166,  24.53190282,  92.52318234],\n",
       "       [225.2248809 ,  58.815786  ,  29.95459125],\n",
       "       [222.6758    ,  54.51852766,  22.3962522 ],\n",
       "       [118.17251241,  50.9612932 , 119.57288893],\n",
       "       [200.82774952,  32.32609521,  38.14941343],\n",
       "       [232.69613783,  65.06464695,   7.2872665 ],\n",
       "       [220.17733873,  51.70291266,  21.85658004],\n",
       "       [227.15420791,  58.75204375,   9.94085519],\n",
       "       [228.97323927,  67.46273878,  28.96236213],\n",
       "       [245.90847538,  78.25305753,  11.19373239],\n",
       "       [117.10382349,  53.91126096, 120.55279253],\n",
       "       [244.15820445,  76.05215579,   7.78025827],\n",
       "       [243.44125956,  74.77325177,   8.4925217 ],\n",
       "       [245.13857432,  76.67832431,   8.27012798],\n",
       "       [240.95212384,  73.56096271,   9.09149875],\n",
       "       [245.96302751,  78.17463569,  10.67541511],\n",
       "       [235.39135342,  66.68541326,   9.20157123],\n",
       "       [245.88417394,  78.09738467,  10.61265542],\n",
       "       [230.14900556,  61.73807711,   7.19434748],\n",
       "       [244.27136992,  80.87284026,  26.76971693],\n",
       "       [240.32913989,  71.76281296,   4.70613495],\n",
       "       [245.48394587,  78.28917773,  12.92788214],\n",
       "       [177.44140345,  11.92055795,  61.88835449],\n",
       "       [117.2500885 ,  54.12526904, 120.5618355 ],\n",
       "       [227.91782329,  60.79382248,  12.30913156],\n",
       "       [242.68770435,  74.2328637 ,   5.84221607],\n",
       "       [226.70387134,  58.0816241 ,  15.94023809],\n",
       "       [232.0827039 ,  63.56067972,   5.48923528],\n",
       "       [243.15219207,  75.28108787,   7.95367213],\n",
       "       [244.90073026,  76.8925953 ,   8.85020989],\n",
       "       [242.74944445,  79.57909697,  26.81713563],\n",
       "       [239.96400504,  74.70232432,  18.56612954],\n",
       "       [236.19197241,  73.33522927,  25.76703046],\n",
       "       [245.55254375,  76.84272503,  12.46252142],\n",
       "       [171.55250563,  14.23105022,  66.12803735],\n",
       "       [246.11187682,  77.52749704,   9.72020377],\n",
       "       [171.05813646,  15.15575855,  70.43923956],\n",
       "       [243.30383878,  74.59468324,  10.94900762],\n",
       "       [245.42943002,  77.11849409,   8.52392023],\n",
       "       [215.38589185,  56.38823429,  36.69295008],\n",
       "       [207.63122172,  39.38999481,  29.40902973],\n",
       "       [245.27155992,  76.74787278,   8.59006632],\n",
       "       [245.18786405,  76.53068717,   9.6726711 ],\n",
       "       [231.67216613,  63.24510072,  16.31390415],\n",
       "       [244.81848358,  76.70300205,   8.37531032],\n",
       "       [227.01678138,  63.07424804,  38.04148946],\n",
       "       [102.06666326,  68.03000725, 135.34558135],\n",
       "       [247.09249462,  83.4785609 ,  27.49875382],\n",
       "       [159.5628101 ,  19.45434039,  82.04334185],\n",
       "       [238.57173755,  70.30036459,  17.74081497],\n",
       "       [245.37676453,  78.02611525,  12.13570083],\n",
       "       [246.41742068,  78.49833586,  10.68553737],\n",
       "       [245.01893422,  76.31502789,  12.85532607],\n",
       "       [117.57257773,  54.3318042 , 122.54898686],\n",
       "       [246.40349166,  79.17667101,  13.51449585],\n",
       "       [106.9677208 ,  65.31055133, 133.60590773],\n",
       "       [243.43956507,  75.97765632,  10.23843769],\n",
       "       [245.40040816,  77.00959262,   8.4557107 ],\n",
       "       [222.24772702,  54.96461459,  16.28437714],\n",
       "       [245.54990398,  77.23775124,   8.64233637],\n",
       "       [246.1658998 ,  77.93575263,   9.51526237],\n",
       "       [240.33306376,  72.06504289,   3.65315556],\n",
       "       [226.37900159,  57.71928567,  11.82461782],\n",
       "       [ 41.64544724, 127.32184459, 195.43892826],\n",
       "       [246.50801445,  78.47371839,  10.25025978],\n",
       "       [216.02694823,  52.06455264,  27.55695655],\n",
       "       [173.48357342,   9.39211161,  65.67234568],\n",
       "       [227.15494163,  58.75204375,   9.92447035],\n",
       "       [240.75513929,  73.06828214,   7.25396825],\n",
       "       [215.96364797,  48.36419047,  29.10715358],\n",
       "       [223.01987821,  54.35309835,  17.88734448],\n",
       "       [238.22549954,  70.93136321,   8.6834867 ],\n",
       "       [245.35890855,  76.96844445,   8.4144111 ],\n",
       "       [227.09097725,  58.60380613,  10.21556934],\n",
       "       [239.96315315,  71.30670564,   5.67592581],\n",
       "       [245.49357358,  76.85330061,  14.8730254 ],\n",
       "       [221.971462  ,  54.15452248,  15.46712382],\n",
       "       [243.54349294,  76.23467026,  11.07612334],\n",
       "       [245.38342439,  76.72577803,   9.84466255],\n",
       "       [260.05659951, 428.76754723, 497.02700963],\n",
       "       [246.60042706,  79.53587831,  14.34219823],\n",
       "       [240.33306376,  72.06504289,   3.65315556],\n",
       "       [245.51450557,  76.83366822,  14.02683081],\n",
       "       [239.99123162,  71.93631893,   4.4784149 ],\n",
       "       [232.0258446 ,  63.44542596,   6.03408115],\n",
       "       [189.31103886,  21.8477037 ,  50.3370391 ],\n",
       "       [242.90153391,  74.69859518,   6.30049161],\n",
       "       [181.02474211,  22.72050831,  58.02833517],\n",
       "       [187.74575854,  22.05352532,  53.3441535 ],\n",
       "       [236.16860548,  73.95485035,  27.67084588],\n",
       "       [226.75557265,  59.26206459,  24.64264226],\n",
       "       [201.76713383,  38.74436864,  47.36404629],\n",
       "       [237.52867601,  68.98858024,   2.90957365],\n",
       "       [185.60276936,  28.7176001 ,  55.3995791 ],\n",
       "       [216.56954939,  49.10319237,  21.13179726],\n",
       "       [232.0258446 ,  63.44542596,   6.03408115],\n",
       "       [244.59406487,  76.21015978,   7.65383022],\n",
       "       [198.11940844,  31.45029715,  39.33921716],\n",
       "       [214.10588285,  47.21996761,  24.08277696],\n",
       "       [193.2691989 ,  25.62464635,  46.65341727],\n",
       "       [239.27002924,  70.77057198,   3.37447588],\n",
       "       [242.24722714,  74.52398615,   8.05044473],\n",
       "       [118.86345303,  50.98192673, 118.32776547],\n",
       "       [252.7234677 ,  84.74997852,  27.05680116],\n",
       "       [239.67265497,  71.29654966,  16.91027233],\n",
       "       [171.11382646,  16.14237676,  70.81071287],\n",
       "       [  9.89544035, 178.48738513, 246.76337272],\n",
       "       [244.98952565,  77.10140326,   9.51658714],\n",
       "       [242.2483738 ,  74.52722503,   8.03850133],\n",
       "       [202.98087079,  38.04016566,  43.61222462],\n",
       "       [224.69113059,  62.30508027,  27.35699711],\n",
       "       [245.44258999,  77.12728166,   8.55326559],\n",
       "       [237.8740694 ,  70.58844597,   8.50899383],\n",
       "       [188.7151671 ,  23.75658268,  48.91111072],\n",
       "       [245.70302719,  77.57519962,   9.18693539],\n",
       "       [240.03549132,  73.52978327,  29.76312458],\n",
       "       [245.98453048,  78.19152458,  10.70571575],\n",
       "       [234.67678465,  70.71965838,  22.13955195],\n",
       "       [160.52850674,  17.85349328,  77.39481249],\n",
       "       [213.38966735,  46.49037962,  33.08973933],\n",
       "       [234.46189915,  68.58203299,  15.08756424],\n",
       "       [242.19353982,  74.08930388,  20.41784395],\n",
       "       [231.13637519,  62.74381555,   6.60065387],\n",
       "       [194.39060167,  31.3285949 ,  44.79053658],\n",
       "       [246.22290391,  78.08380275,   9.68487445],\n",
       "       [173.51495364,  11.11560111,  66.2720339 ],\n",
       "       [245.87232417,  77.96251006,  10.10492879],\n",
       "       [245.27629009,  76.65021577,   9.2923345 ],\n",
       "       [ 88.89426677,  81.2533497 , 148.64985907],\n",
       "       [231.7444553 ,  63.04755736,  11.63152992],\n",
       "       [194.49174481,  29.43464562,  43.55690632],\n",
       "       [207.31210447,  42.53717997,  32.60624905],\n",
       "       [224.94745629,  56.53549504,  19.47827064],\n",
       "       [239.99091849,  72.4704813 ,   8.00382031],\n",
       "       [243.06341116,  75.07089145,   7.3210761 ],\n",
       "       [ 41.63725828, 128.03580734, 196.56559274],\n",
       "       [242.35979854,  78.54933878,  24.58654559],\n",
       "       [162.80871569,   6.11122171,  74.39236248],\n",
       "       [245.4123057 ,  76.9508209 ,   8.56187271],\n",
       "       [143.85031061,  24.92739378,  93.39987856],\n",
       "       [245.48579177,  76.81635676,  14.29780351]])"
      ]
     },
     "execution_count": 34,
     "metadata": {},
     "output_type": "execute_result"
    }
   ],
   "source": [
    "distancias = KMeans.fit_transform(kmeans,X) # distancia\n",
    "distancias"
   ]
  },
  {
   "cell_type": "code",
   "execution_count": 35,
   "metadata": {
    "scrolled": true
   },
   "outputs": [
    {
     "data": {
      "text/plain": [
       "array([2, 2, 2, 2, 2, 2, 2, 2, 2, 2, 2, 1, 2, 1, 2, 2, 2, 2, 2, 1, 2, 1,\n",
       "       0, 2, 1, 2, 2, 2, 2, 2, 1, 2, 2, 2, 2, 2, 2, 1, 2, 2, 1, 2, 1, 2,\n",
       "       2, 0, 2, 2, 2, 0, 2, 2, 2, 2, 0, 2, 2, 2, 0, 2, 2, 2, 2, 0, 0, 2,\n",
       "       2, 2, 2, 0, 2, 2, 2, 2, 2, 1, 2, 2, 1, 2, 2, 2, 1, 2, 2, 2, 2, 2,\n",
       "       2, 2, 2, 2, 0, 2, 2, 1, 2, 2, 1, 2, 2, 2, 2, 2, 2, 2, 2, 2, 2, 2,\n",
       "       2, 2, 2, 1, 0, 2, 2, 2, 2, 2, 1, 2, 2, 2, 0, 2, 2, 2, 2, 2, 2, 2,\n",
       "       1, 2, 2, 2, 2, 2, 2, 2, 1, 2, 1, 2, 1, 1, 0, 2, 2, 2, 2, 2, 2, 2,\n",
       "       2, 2, 1, 2, 2, 2, 0, 2, 2, 2, 2, 2, 2, 2, 1, 2, 2, 2, 1, 0, 2, 2,\n",
       "       2, 2, 2, 2, 2, 2, 1, 2, 2, 1, 2, 1, 2, 2, 1, 2, 2, 1, 1, 2, 2, 2,\n",
       "       2, 2, 1, 2, 2, 2, 2, 2, 2, 2, 2, 2, 2, 2, 1, 1, 2, 2, 2, 2, 2, 2,\n",
       "       2, 2, 2, 2, 1, 2, 1, 2, 2, 2, 2, 2, 2, 2, 2, 2, 1, 2, 1, 2, 2, 2,\n",
       "       2, 1, 2, 1, 2, 2, 2, 2, 2, 2, 2, 0, 2, 2, 1, 2, 2, 2, 2, 2, 2, 2,\n",
       "       2, 2, 2, 2, 2, 0, 2, 2, 2, 2, 2, 1, 2, 1, 1, 2, 2, 1, 2, 1, 2, 2,\n",
       "       2, 1, 2, 1, 2, 2, 1, 2, 2, 1, 0, 2, 2, 1, 2, 2, 2, 1, 2, 2, 2, 2,\n",
       "       1, 2, 2, 2, 2, 1, 2, 1, 2, 2, 1, 2, 1, 2, 2, 2, 2, 0, 2, 1, 2, 1,\n",
       "       2])"
      ]
     },
     "execution_count": 35,
     "metadata": {},
     "output_type": "execute_result"
    }
   ],
   "source": [
    "nombres_clusters = kmeans.labels_\n",
    "nombres_clusters"
   ]
  },
  {
   "cell_type": "code",
   "execution_count": 41,
   "metadata": {
    "scrolled": true
   },
   "outputs": [
    {
     "data": {
      "text/html": [
       "<div>\n",
       "<style scoped>\n",
       "    .dataframe tbody tr th:only-of-type {\n",
       "        vertical-align: middle;\n",
       "    }\n",
       "\n",
       "    .dataframe tbody tr th {\n",
       "        vertical-align: top;\n",
       "    }\n",
       "\n",
       "    .dataframe thead th {\n",
       "        text-align: right;\n",
       "    }\n",
       "</style>\n",
       "<table border=\"1\" class=\"dataframe\">\n",
       "  <thead>\n",
       "    <tr style=\"text-align: right;\">\n",
       "      <th></th>\n",
       "      <th>Pclass</th>\n",
       "      <th>Sex</th>\n",
       "      <th>Age</th>\n",
       "      <th>SibSp</th>\n",
       "      <th>Parch</th>\n",
       "      <th>Fare</th>\n",
       "      <th>Embarked</th>\n",
       "    </tr>\n",
       "  </thead>\n",
       "  <tbody>\n",
       "    <tr>\n",
       "      <th>0</th>\n",
       "      <td>3</td>\n",
       "      <td>0</td>\n",
       "      <td>34.5</td>\n",
       "      <td>0</td>\n",
       "      <td>0</td>\n",
       "      <td>7.8292</td>\n",
       "      <td>1</td>\n",
       "    </tr>\n",
       "    <tr>\n",
       "      <th>1</th>\n",
       "      <td>3</td>\n",
       "      <td>1</td>\n",
       "      <td>47.0</td>\n",
       "      <td>1</td>\n",
       "      <td>0</td>\n",
       "      <td>7.0000</td>\n",
       "      <td>0</td>\n",
       "    </tr>\n",
       "    <tr>\n",
       "      <th>2</th>\n",
       "      <td>2</td>\n",
       "      <td>0</td>\n",
       "      <td>62.0</td>\n",
       "      <td>0</td>\n",
       "      <td>0</td>\n",
       "      <td>9.6875</td>\n",
       "      <td>1</td>\n",
       "    </tr>\n",
       "    <tr>\n",
       "      <th>3</th>\n",
       "      <td>3</td>\n",
       "      <td>0</td>\n",
       "      <td>27.0</td>\n",
       "      <td>0</td>\n",
       "      <td>0</td>\n",
       "      <td>8.6625</td>\n",
       "      <td>0</td>\n",
       "    </tr>\n",
       "    <tr>\n",
       "      <th>4</th>\n",
       "      <td>3</td>\n",
       "      <td>1</td>\n",
       "      <td>22.0</td>\n",
       "      <td>1</td>\n",
       "      <td>1</td>\n",
       "      <td>12.2875</td>\n",
       "      <td>0</td>\n",
       "    </tr>\n",
       "    <tr>\n",
       "      <th>...</th>\n",
       "      <td>...</td>\n",
       "      <td>...</td>\n",
       "      <td>...</td>\n",
       "      <td>...</td>\n",
       "      <td>...</td>\n",
       "      <td>...</td>\n",
       "      <td>...</td>\n",
       "    </tr>\n",
       "    <tr>\n",
       "      <th>409</th>\n",
       "      <td>3</td>\n",
       "      <td>1</td>\n",
       "      <td>3.0</td>\n",
       "      <td>1</td>\n",
       "      <td>1</td>\n",
       "      <td>13.7750</td>\n",
       "      <td>0</td>\n",
       "    </tr>\n",
       "    <tr>\n",
       "      <th>411</th>\n",
       "      <td>1</td>\n",
       "      <td>1</td>\n",
       "      <td>37.0</td>\n",
       "      <td>1</td>\n",
       "      <td>0</td>\n",
       "      <td>90.0000</td>\n",
       "      <td>1</td>\n",
       "    </tr>\n",
       "    <tr>\n",
       "      <th>412</th>\n",
       "      <td>3</td>\n",
       "      <td>1</td>\n",
       "      <td>28.0</td>\n",
       "      <td>0</td>\n",
       "      <td>0</td>\n",
       "      <td>7.7750</td>\n",
       "      <td>0</td>\n",
       "    </tr>\n",
       "    <tr>\n",
       "      <th>414</th>\n",
       "      <td>1</td>\n",
       "      <td>1</td>\n",
       "      <td>39.0</td>\n",
       "      <td>0</td>\n",
       "      <td>0</td>\n",
       "      <td>108.9000</td>\n",
       "      <td>2</td>\n",
       "    </tr>\n",
       "    <tr>\n",
       "      <th>415</th>\n",
       "      <td>3</td>\n",
       "      <td>0</td>\n",
       "      <td>38.5</td>\n",
       "      <td>0</td>\n",
       "      <td>0</td>\n",
       "      <td>7.2500</td>\n",
       "      <td>0</td>\n",
       "    </tr>\n",
       "  </tbody>\n",
       "</table>\n",
       "<p>331 rows × 7 columns</p>\n",
       "</div>"
      ],
      "text/plain": [
       "     Pclass  Sex   Age  SibSp  Parch      Fare  Embarked\n",
       "0         3    0  34.5      0      0    7.8292         1\n",
       "1         3    1  47.0      1      0    7.0000         0\n",
       "2         2    0  62.0      0      0    9.6875         1\n",
       "3         3    0  27.0      0      0    8.6625         0\n",
       "4         3    1  22.0      1      1   12.2875         0\n",
       "..      ...  ...   ...    ...    ...       ...       ...\n",
       "409       3    1   3.0      1      1   13.7750         0\n",
       "411       1    1  37.0      1      0   90.0000         1\n",
       "412       3    1  28.0      0      0    7.7750         0\n",
       "414       1    1  39.0      0      0  108.9000         2\n",
       "415       3    0  38.5      0      0    7.2500         0\n",
       "\n",
       "[331 rows x 7 columns]"
      ]
     },
     "execution_count": 41,
     "metadata": {},
     "output_type": "execute_result"
    }
   ],
   "source": [
    "X"
   ]
  },
  {
   "cell_type": "code",
   "execution_count": 44,
   "metadata": {
    "scrolled": true
   },
   "outputs": [
    {
     "data": {
      "image/png": "[encoded data removed]",
      "text/plain": [
       "<Figure size 432x288 with 1 Axes>"
      ]
     },
     "metadata": {
      "needs_background": "light"
     },
     "output_type": "display_data"
    }
   ],
   "source": [
    "# visualizar los grupos\n",
    "plt.scatter(X.iloc[:,6],X.iloc[:,5], s=100, c=nombres_clusters)\n",
    "plt.scatter(centros[:,6], centros[:,5], s=200, c='blue', label = 'Centroides')\n",
    "plt.title(\"Distribucion de las Clases de Pasajeros en los Puertos Visitados\")\n",
    "plt.xlabel(\"Puertos\")\n",
    "plt.ylabel(\"Costo Boleto\")\n",
    "plt.legend()\n",
    "\n",
    "plt.show()"
   ]
  },
  {
   "cell_type": "code",
   "execution_count": 43,
   "metadata": {},
   "outputs": [
    {
     "data": {
      "image/png": "[encoded data removed]",
      "text/plain": [
       "<Figure size 432x288 with 1 Axes>"
      ]
     },
     "metadata": {
      "needs_background": "light"
     },
     "output_type": "display_data"
    }
   ],
   "source": [
    "# visualizar los grupos\n",
    "plt.scatter(X.iloc[:,2],X.iloc[:,5], s=100, c=nombres_clusters)\n",
    "plt.scatter(centros[:,2], centros[:,5], s=200, c='blue', label = 'Centroides')\n",
    "plt.title(\"Nivel Económico de Pasajeros del Titanic\")\n",
    "plt.xlabel(\"Edad\")\n",
    "plt.ylabel(\"Costo Boleto\")\n",
    "plt.legend()\n",
    "\n",
    "plt.show()"
   ]
  },
  {
   "cell_type": "code",
   "execution_count": null,
   "metadata": {},
   "outputs": [],
   "source": []
  }
 ],
 "metadata": {
  "kernelspec": {
   "display_name": "Python 3",
   "language": "python",
   "name": "python3"
  },
  "language_info": {
   "codemirror_mode": {
    "name": "ipython",
    "version": 3
   },
   "file_extension": ".py",
   "mimetype": "text/x-python",
   "name": "python",
   "nbconvert_exporter": "python",
   "pygments_lexer": "ipython3",
   "version": "3.8.8"
  }
 },
 "nbformat": 4,
 "nbformat_minor": 1
}

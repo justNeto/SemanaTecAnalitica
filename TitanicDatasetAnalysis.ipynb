{
 "cells": [
  {
   "cell_type": "markdown",
   "metadata": {},
   "source": [
    "# Analisis de Base de Datos \"Titanic\"\n",
    "\n",
    "Equipo:\n",
    "\n",
    "Luis Ernesto Ladron de Guevara\n",
    "Eduardo Angeles Guerrero"
   ]
  },
  {
   "cell_type": "code",
   "execution_count": 1,
   "metadata": {},
   "outputs": [],
   "source": [
    "''' Importando las librerias '''\n",
    "# cargando librerias que usare\n",
    "import pandas as pd # libreria de manejo de funciones para ciencia de datos\n",
    "import numpy as np # libreria para manejo de arreglos y otras operaciones matematicas\n",
    "import matplotlib.pyplot as plt # libraria para graficacion de datos\n",
    "import seaborn as sns # libreria para visualizacion de datos\n",
    "from sklearn.preprocessing import StandardScaler\n",
    "import pylab\n",
    "\n",
    "# paquetes de aprendizaje\n",
    "from sklearn.model_selection import train_test_split\n",
    "from sklearn.model_selection import KFold\n",
    "from sklearn.model_selection import cross_val_score\n",
    "from sklearn.naive_bayes import GaussianNB, BernoulliNB # especifico para datos numericos y que tengan\n",
    "\n",
    "#paquete para evaluacion de modelo\n",
    "from sklearn.metrics import accuracy_score\n",
    "from sklearn.metrics import classification_report\n",
    "from sklearn.metrics import confusion_matrix\n",
    "from sklearn.metrics import f1_score\n",
    "from sklearn.metrics import recall_score\n",
    "\n",
    "# paquetes para clustering\n",
    "from sklearn.cluster import KMeans\n",
    "\n",
    "import warnings\n",
    "warnings.filterwarnings('ignore')"
   ]
  },
  {
   "cell_type": "markdown",
   "metadata": {},
   "source": [
    "En esta libreta de jupyter haremos nuestro analisis de los datos recopilados en el conjuto de datos sobre el Titanic\n",
    "\n",
    "Link a la database: https://www.kaggle.com/brendan45774/test-file\n",
    "\n",
    "Primero, cargamos los datos"
   ]
  },
  {
   "cell_type": "code",
   "execution_count": 2,
   "metadata": {
    "pycharm": {
     "name": "#%%\n"
    }
   },
   "outputs": [],
   "source": [
    "titanic = pd.read_csv(\"titanic.csv\") # Leer conjunto de datos"
   ]
  },
  {
   "cell_type": "markdown",
   "metadata": {},
   "source": [
    "## Estadisticas Iniciales\n",
    "Estos datos tienen las siguientes estadisticas iniciales"
   ]
  },
  {
   "cell_type": "code",
   "execution_count": 3,
   "metadata": {
    "pycharm": {
     "name": "#%%\n"
    },
    "scrolled": true
   },
   "outputs": [
    {
     "data": {
      "text/html": [
       "<div>\n",
       "<style scoped>\n",
       "    .dataframe tbody tr th:only-of-type {\n",
       "        vertical-align: middle;\n",
       "    }\n",
       "\n",
       "    .dataframe tbody tr th {\n",
       "        vertical-align: top;\n",
       "    }\n",
       "\n",
       "    .dataframe thead th {\n",
       "        text-align: right;\n",
       "    }\n",
       "</style>\n",
       "<table border=\"1\" class=\"dataframe\">\n",
       "  <thead>\n",
       "    <tr style=\"text-align: right;\">\n",
       "      <th></th>\n",
       "      <th>PassengerId</th>\n",
       "      <th>Survived</th>\n",
       "      <th>Pclass</th>\n",
       "      <th>Age</th>\n",
       "      <th>SibSp</th>\n",
       "      <th>Parch</th>\n",
       "      <th>Fare</th>\n",
       "    </tr>\n",
       "  </thead>\n",
       "  <tbody>\n",
       "    <tr>\n",
       "      <th>count</th>\n",
       "      <td>418.000000</td>\n",
       "      <td>418.000000</td>\n",
       "      <td>418.000000</td>\n",
       "      <td>332.000000</td>\n",
       "      <td>418.000000</td>\n",
       "      <td>418.000000</td>\n",
       "      <td>417.000000</td>\n",
       "    </tr>\n",
       "    <tr>\n",
       "      <th>mean</th>\n",
       "      <td>1100.500000</td>\n",
       "      <td>0.363636</td>\n",
       "      <td>2.265550</td>\n",
       "      <td>30.272590</td>\n",
       "      <td>0.447368</td>\n",
       "      <td>0.392344</td>\n",
       "      <td>35.627188</td>\n",
       "    </tr>\n",
       "    <tr>\n",
       "      <th>std</th>\n",
       "      <td>120.810458</td>\n",
       "      <td>0.481622</td>\n",
       "      <td>0.841838</td>\n",
       "      <td>14.181209</td>\n",
       "      <td>0.896760</td>\n",
       "      <td>0.981429</td>\n",
       "      <td>55.907576</td>\n",
       "    </tr>\n",
       "    <tr>\n",
       "      <th>min</th>\n",
       "      <td>892.000000</td>\n",
       "      <td>0.000000</td>\n",
       "      <td>1.000000</td>\n",
       "      <td>0.170000</td>\n",
       "      <td>0.000000</td>\n",
       "      <td>0.000000</td>\n",
       "      <td>0.000000</td>\n",
       "    </tr>\n",
       "    <tr>\n",
       "      <th>25%</th>\n",
       "      <td>996.250000</td>\n",
       "      <td>0.000000</td>\n",
       "      <td>1.000000</td>\n",
       "      <td>21.000000</td>\n",
       "      <td>0.000000</td>\n",
       "      <td>0.000000</td>\n",
       "      <td>7.895800</td>\n",
       "    </tr>\n",
       "    <tr>\n",
       "      <th>50%</th>\n",
       "      <td>1100.500000</td>\n",
       "      <td>0.000000</td>\n",
       "      <td>3.000000</td>\n",
       "      <td>27.000000</td>\n",
       "      <td>0.000000</td>\n",
       "      <td>0.000000</td>\n",
       "      <td>14.454200</td>\n",
       "    </tr>\n",
       "    <tr>\n",
       "      <th>75%</th>\n",
       "      <td>1204.750000</td>\n",
       "      <td>1.000000</td>\n",
       "      <td>3.000000</td>\n",
       "      <td>39.000000</td>\n",
       "      <td>1.000000</td>\n",
       "      <td>0.000000</td>\n",
       "      <td>31.500000</td>\n",
       "    </tr>\n",
       "    <tr>\n",
       "      <th>max</th>\n",
       "      <td>1309.000000</td>\n",
       "      <td>1.000000</td>\n",
       "      <td>3.000000</td>\n",
       "      <td>76.000000</td>\n",
       "      <td>8.000000</td>\n",
       "      <td>9.000000</td>\n",
       "      <td>512.329200</td>\n",
       "    </tr>\n",
       "  </tbody>\n",
       "</table>\n",
       "</div>"
      ],
      "text/plain": [
       "       PassengerId    Survived      Pclass         Age       SibSp  \\\n",
       "count   418.000000  418.000000  418.000000  332.000000  418.000000   \n",
       "mean   1100.500000    0.363636    2.265550   30.272590    0.447368   \n",
       "std     120.810458    0.481622    0.841838   14.181209    0.896760   \n",
       "min     892.000000    0.000000    1.000000    0.170000    0.000000   \n",
       "25%     996.250000    0.000000    1.000000   21.000000    0.000000   \n",
       "50%    1100.500000    0.000000    3.000000   27.000000    0.000000   \n",
       "75%    1204.750000    1.000000    3.000000   39.000000    1.000000   \n",
       "max    1309.000000    1.000000    3.000000   76.000000    8.000000   \n",
       "\n",
       "            Parch        Fare  \n",
       "count  418.000000  417.000000  \n",
       "mean     0.392344   35.627188  \n",
       "std      0.981429   55.907576  \n",
       "min      0.000000    0.000000  \n",
       "25%      0.000000    7.895800  \n",
       "50%      0.000000   14.454200  \n",
       "75%      0.000000   31.500000  \n",
       "max      9.000000  512.329200  "
      ]
     },
     "execution_count": 3,
     "metadata": {},
     "output_type": "execute_result"
    }
   ],
   "source": [
    "titanic.describe()"
   ]
  },
  {
   "cell_type": "markdown",
   "metadata": {},
   "source": [
    "# Exploración visual de los datos\n",
    "Ahora procederemos a visualiar las estadística básicas de los datos."
   ]
  },
  {
   "cell_type": "code",
   "execution_count": 4,
   "metadata": {},
   "outputs": [
    {
     "data": {
      "image/png": "[encoded data removed]",
      "text/plain": [
       "<Figure size 720x720 with 9 Axes>"
      ]
     },
     "metadata": {
      "needs_background": "light"
     },
     "output_type": "display_data"
    }
   ],
   "source": [
    "# los valores de sex tendran un rango de 0 a 1\n",
    "titanic.replace('male', 0, inplace=True)\n",
    "titanic.replace('female', 1, inplace=True)\n",
    "\n",
    "titanic.hist(figsize = (10, 10))\n",
    "plt.show()"
   ]
  },
  {
   "cell_type": "code",
   "execution_count": 5,
   "metadata": {},
   "outputs": [
    {
     "data": {
      "image/png": "[encoded data removed]",
      "text/plain": [
       "<Figure size 720x720 with 9 Axes>"
      ]
     },
     "metadata": {
      "needs_background": "light"
     },
     "output_type": "display_data"
    }
   ],
   "source": [
    "titanic.plot(kind='box', subplots=True, layout=(3,3), sharex=False, figsize = (10,10))\n",
    "plt.show()"
   ]
  },
  {
   "cell_type": "code",
   "execution_count": 6,
   "metadata": {},
   "outputs": [
    {
     "name": "stdout",
     "output_type": "stream",
     "text": [
      "             PassengerId  Survived    Pclass       Sex       Age     SibSp  \\\n",
      "PassengerId     1.000000 -0.023245 -0.026751 -0.023245 -0.034102  0.003818   \n",
      "Survived       -0.023245  1.000000 -0.108615  1.000000 -0.000013  0.099943   \n",
      "Pclass         -0.026751 -0.108615  1.000000 -0.108615 -0.492143  0.001087   \n",
      "Sex            -0.023245  1.000000 -0.108615  1.000000 -0.000013  0.099943   \n",
      "Age            -0.034102 -0.000013 -0.492143 -0.000013  1.000000 -0.091587   \n",
      "SibSp           0.003818  0.099943  0.001087  0.099943 -0.091587  1.000000   \n",
      "Parch           0.043080  0.159120  0.018721  0.159120 -0.061249  0.306895   \n",
      "Fare            0.008211  0.191514 -0.577147  0.191514  0.337932  0.171539   \n",
      "\n",
      "                Parch      Fare  \n",
      "PassengerId  0.043080  0.008211  \n",
      "Survived     0.159120  0.191514  \n",
      "Pclass       0.018721 -0.577147  \n",
      "Sex          0.159120  0.191514  \n",
      "Age         -0.061249  0.337932  \n",
      "SibSp        0.306895  0.171539  \n",
      "Parch        1.000000  0.230046  \n",
      "Fare         0.230046  1.000000  \n"
     ]
    },
    {
     "data": {
      "image/png": "[encoded data removed]",
      "text/plain": [
       "<Figure size 432x288 with 2 Axes>"
      ]
     },
     "metadata": {
      "needs_background": "light"
     },
     "output_type": "display_data"
    }
   ],
   "source": [
    "attributes = titanic.columns[0:len(titanic.columns)-1]\n",
    "correlation = titanic[titanic.columns].corr()\n",
    "print(correlation)\n",
    "\n",
    "sns.heatmap(correlation, annot=True)\n",
    "plt.show()"
   ]
  },
  {
   "cell_type": "code",
   "execution_count": 7,
   "metadata": {},
   "outputs": [
    {
     "data": {
      "image/png": "[encoded data removed]",
      "text/plain": [
       "<Figure size 720x720 with 64 Axes>"
      ]
     },
     "metadata": {
      "needs_background": "light"
     },
     "output_type": "display_data"
    }
   ],
   "source": [
    "pd.plotting.scatter_matrix(titanic, figsize = (10, 10))\n",
    "plt.show()"
   ]
  },
  {
   "cell_type": "markdown",
   "metadata": {},
   "source": [
    "Para poder visualizar los datos mejor, mapearemos las variables que nos interesan a nuestra dataframe, como a continuación"
   ]
  },
  {
   "cell_type": "code",
   "execution_count": 8,
   "metadata": {},
   "outputs": [],
   "source": [
    "def mappedDF(df):\n",
    "    surv = {0: 0, 1: 1}\n",
    "    df['Survived'] = df['Survived'].map(surv)\n",
    "    \n",
    "    classes = {1: 'Upper class', 2: 'Middle class', 3: 'Lower class'}\n",
    "    df['Pclass'] = df['Pclass'].map(classes)\n",
    "    \n",
    "    town = {'S': 'Southampton', 'C': 'Cherbourg', 'Q': 'Queenstown'}\n",
    "    df['Embarked'] = df['Embarked'].map(town)\n",
    "    \n",
    "    return(df)\n",
    "\n",
    "tdf = mappedDF(titanic)"
   ]
  },
  {
   "cell_type": "code",
   "execution_count": 9,
   "metadata": {},
   "outputs": [
    {
     "data": {
      "text/html": [
       "<div>\n",
       "<style scoped>\n",
       "    .dataframe tbody tr th:only-of-type {\n",
       "        vertical-align: middle;\n",
       "    }\n",
       "\n",
       "    .dataframe tbody tr th {\n",
       "        vertical-align: top;\n",
       "    }\n",
       "\n",
       "    .dataframe thead th {\n",
       "        text-align: right;\n",
       "    }\n",
       "</style>\n",
       "<table border=\"1\" class=\"dataframe\">\n",
       "  <thead>\n",
       "    <tr style=\"text-align: right;\">\n",
       "      <th></th>\n",
       "      <th>PassengerId</th>\n",
       "      <th>Survived</th>\n",
       "      <th>Pclass</th>\n",
       "      <th>Name</th>\n",
       "      <th>Sex</th>\n",
       "      <th>Age</th>\n",
       "      <th>SibSp</th>\n",
       "      <th>Parch</th>\n",
       "      <th>Embarked</th>\n",
       "    </tr>\n",
       "  </thead>\n",
       "  <tbody>\n",
       "    <tr>\n",
       "      <th>0</th>\n",
       "      <td>892</td>\n",
       "      <td>0</td>\n",
       "      <td>Lower class</td>\n",
       "      <td>Kelly, Mr. James</td>\n",
       "      <td>0</td>\n",
       "      <td>34.5</td>\n",
       "      <td>0</td>\n",
       "      <td>0</td>\n",
       "      <td>Queenstown</td>\n",
       "    </tr>\n",
       "    <tr>\n",
       "      <th>1</th>\n",
       "      <td>893</td>\n",
       "      <td>1</td>\n",
       "      <td>Lower class</td>\n",
       "      <td>Wilkes, Mrs. James (Ellen Needs)</td>\n",
       "      <td>1</td>\n",
       "      <td>47.0</td>\n",
       "      <td>1</td>\n",
       "      <td>0</td>\n",
       "      <td>Southampton</td>\n",
       "    </tr>\n",
       "    <tr>\n",
       "      <th>2</th>\n",
       "      <td>894</td>\n",
       "      <td>0</td>\n",
       "      <td>Middle class</td>\n",
       "      <td>Myles, Mr. Thomas Francis</td>\n",
       "      <td>0</td>\n",
       "      <td>62.0</td>\n",
       "      <td>0</td>\n",
       "      <td>0</td>\n",
       "      <td>Queenstown</td>\n",
       "    </tr>\n",
       "    <tr>\n",
       "      <th>3</th>\n",
       "      <td>895</td>\n",
       "      <td>0</td>\n",
       "      <td>Lower class</td>\n",
       "      <td>Wirz, Mr. Albert</td>\n",
       "      <td>0</td>\n",
       "      <td>27.0</td>\n",
       "      <td>0</td>\n",
       "      <td>0</td>\n",
       "      <td>Southampton</td>\n",
       "    </tr>\n",
       "    <tr>\n",
       "      <th>4</th>\n",
       "      <td>896</td>\n",
       "      <td>1</td>\n",
       "      <td>Lower class</td>\n",
       "      <td>Hirvonen, Mrs. Alexander (Helga E Lindqvist)</td>\n",
       "      <td>1</td>\n",
       "      <td>22.0</td>\n",
       "      <td>1</td>\n",
       "      <td>1</td>\n",
       "      <td>Southampton</td>\n",
       "    </tr>\n",
       "    <tr>\n",
       "      <th>...</th>\n",
       "      <td>...</td>\n",
       "      <td>...</td>\n",
       "      <td>...</td>\n",
       "      <td>...</td>\n",
       "      <td>...</td>\n",
       "      <td>...</td>\n",
       "      <td>...</td>\n",
       "      <td>...</td>\n",
       "      <td>...</td>\n",
       "    </tr>\n",
       "    <tr>\n",
       "      <th>413</th>\n",
       "      <td>1305</td>\n",
       "      <td>0</td>\n",
       "      <td>Lower class</td>\n",
       "      <td>Spector, Mr. Woolf</td>\n",
       "      <td>0</td>\n",
       "      <td>NaN</td>\n",
       "      <td>0</td>\n",
       "      <td>0</td>\n",
       "      <td>Southampton</td>\n",
       "    </tr>\n",
       "    <tr>\n",
       "      <th>414</th>\n",
       "      <td>1306</td>\n",
       "      <td>1</td>\n",
       "      <td>Upper class</td>\n",
       "      <td>Oliva y Ocana, Dona. Fermina</td>\n",
       "      <td>1</td>\n",
       "      <td>39.0</td>\n",
       "      <td>0</td>\n",
       "      <td>0</td>\n",
       "      <td>Cherbourg</td>\n",
       "    </tr>\n",
       "    <tr>\n",
       "      <th>415</th>\n",
       "      <td>1307</td>\n",
       "      <td>0</td>\n",
       "      <td>Lower class</td>\n",
       "      <td>Saether, Mr. Simon Sivertsen</td>\n",
       "      <td>0</td>\n",
       "      <td>38.5</td>\n",
       "      <td>0</td>\n",
       "      <td>0</td>\n",
       "      <td>Southampton</td>\n",
       "    </tr>\n",
       "    <tr>\n",
       "      <th>416</th>\n",
       "      <td>1308</td>\n",
       "      <td>0</td>\n",
       "      <td>Lower class</td>\n",
       "      <td>Ware, Mr. Frederick</td>\n",
       "      <td>0</td>\n",
       "      <td>NaN</td>\n",
       "      <td>0</td>\n",
       "      <td>0</td>\n",
       "      <td>Southampton</td>\n",
       "    </tr>\n",
       "    <tr>\n",
       "      <th>417</th>\n",
       "      <td>1309</td>\n",
       "      <td>0</td>\n",
       "      <td>Lower class</td>\n",
       "      <td>Peter, Master. Michael J</td>\n",
       "      <td>0</td>\n",
       "      <td>NaN</td>\n",
       "      <td>1</td>\n",
       "      <td>1</td>\n",
       "      <td>Cherbourg</td>\n",
       "    </tr>\n",
       "  </tbody>\n",
       "</table>\n",
       "<p>418 rows × 9 columns</p>\n",
       "</div>"
      ],
      "text/plain": [
       "     PassengerId  Survived        Pclass  \\\n",
       "0            892         0   Lower class   \n",
       "1            893         1   Lower class   \n",
       "2            894         0  Middle class   \n",
       "3            895         0   Lower class   \n",
       "4            896         1   Lower class   \n",
       "..           ...       ...           ...   \n",
       "413         1305         0   Lower class   \n",
       "414         1306         1   Upper class   \n",
       "415         1307         0   Lower class   \n",
       "416         1308         0   Lower class   \n",
       "417         1309         0   Lower class   \n",
       "\n",
       "                                             Name  Sex   Age  SibSp  Parch  \\\n",
       "0                                Kelly, Mr. James    0  34.5      0      0   \n",
       "1                Wilkes, Mrs. James (Ellen Needs)    1  47.0      1      0   \n",
       "2                       Myles, Mr. Thomas Francis    0  62.0      0      0   \n",
       "3                                Wirz, Mr. Albert    0  27.0      0      0   \n",
       "4    Hirvonen, Mrs. Alexander (Helga E Lindqvist)    1  22.0      1      1   \n",
       "..                                            ...  ...   ...    ...    ...   \n",
       "413                            Spector, Mr. Woolf    0   NaN      0      0   \n",
       "414                  Oliva y Ocana, Dona. Fermina    1  39.0      0      0   \n",
       "415                  Saether, Mr. Simon Sivertsen    0  38.5      0      0   \n",
       "416                           Ware, Mr. Frederick    0   NaN      0      0   \n",
       "417                      Peter, Master. Michael J    0   NaN      1      1   \n",
       "\n",
       "        Embarked  \n",
       "0     Queenstown  \n",
       "1    Southampton  \n",
       "2     Queenstown  \n",
       "3    Southampton  \n",
       "4    Southampton  \n",
       "..           ...  \n",
       "413  Southampton  \n",
       "414    Cherbourg  \n",
       "415  Southampton  \n",
       "416  Southampton  \n",
       "417    Cherbourg  \n",
       "\n",
       "[418 rows x 9 columns]"
      ]
     },
     "execution_count": 9,
     "metadata": {},
     "output_type": "execute_result"
    }
   ],
   "source": [
    "#tdf = tdf.drop(['Cabin','Ticket','Fare'], axis=1)\n",
    "tdf = tdf.drop(['Ticket', 'Fare', 'Cabin'], axis=1)\n",
    "tdf"
   ]
  },
  {
   "cell_type": "code",
   "execution_count": 10,
   "metadata": {},
   "outputs": [],
   "source": [
    "table = pd.crosstab(tdf['Survived'], tdf['Sex'])"
   ]
  },
  {
   "cell_type": "code",
   "execution_count": 11,
   "metadata": {
    "scrolled": false
   },
   "outputs": [
    {
     "data": {
      "text/plain": [
       "<AxesSubplot:>"
      ]
     },
     "execution_count": 11,
     "metadata": {},
     "output_type": "execute_result"
    },
    {
     "data": {
      "image/png": "[encoded data removed]",
      "text/plain": [
       "<Figure size 432x288 with 1 Axes>"
      ]
     },
     "metadata": {},
     "output_type": "display_data"
    }
   ],
   "source": [
    "tdf.groupby('Sex').Survived.mean().plot(kind='pie', ylabel='')"
   ]
  },
  {
   "cell_type": "code",
   "execution_count": 12,
   "metadata": {},
   "outputs": [
    {
     "data": {
      "text/plain": [
       "<seaborn.axisgrid.FacetGrid at 0x22a34fe1790>"
      ]
     },
     "execution_count": 12,
     "metadata": {},
     "output_type": "execute_result"
    },
    {
     "data": {
      "image/png": "[encoded data removed]",
      "text/plain": [
       "<Figure size 360x360 with 1 Axes>"
      ]
     },
     "metadata": {
      "needs_background": "light"
     },
     "output_type": "display_data"
    }
   ],
   "source": [
    "sns.factorplot('Pclass','Survived',data=tdf)"
   ]
  },
  {
   "cell_type": "code",
   "execution_count": 13,
   "metadata": {},
   "outputs": [
    {
     "data": {
      "text/plain": [
       "<seaborn.axisgrid.FacetGrid at 0x22a35236f40>"
      ]
     },
     "execution_count": 13,
     "metadata": {},
     "output_type": "execute_result"
    },
    {
     "data": {
      "image/png": "[encoded data removed]",
      "text/plain": [
       "<Figure size 360x360 with 1 Axes>"
      ]
     },
     "metadata": {
      "needs_background": "light"
     },
     "output_type": "display_data"
    }
   ],
   "source": [
    "sns.catplot('Pclass','Embarked',data=tdf)"
   ]
  },
  {
   "cell_type": "markdown",
   "metadata": {},
   "source": [
    "## Preprocesamiento de Datos"
   ]
  },
  {
   "cell_type": "markdown",
   "metadata": {},
   "source": [
    "La base de datos del titcanic cuenta con algunas columnas cuyos datos son strings, Name, Sex, Ticket, Cabin y Embarked. De estos datos, consideramos que los únicos relevantes, al momento de hacer análisis, son Sex y Embarked. Por ello se borraron las columnas de Name, Ticket y Cabin, y convertimos a numero las variables de Sex y Embarked."
   ]
  },
  {
   "cell_type": "code",
   "execution_count": 14,
   "metadata": {},
   "outputs": [
    {
     "name": "stdout",
     "output_type": "stream",
     "text": [
      "     Survived  Pclass  Sex   Age  SibSp  Parch      Fare  Embarked\n",
      "0           0       3    0  34.5      0      0    7.8292         1\n",
      "1           1       3    1  47.0      1      0    7.0000         0\n",
      "2           0       2    0  62.0      0      0    9.6875         1\n",
      "3           0       3    0  27.0      0      0    8.6625         0\n",
      "4           1       3    1  22.0      1      1   12.2875         0\n",
      "..        ...     ...  ...   ...    ...    ...       ...       ...\n",
      "413         0       3    0   NaN      0      0    8.0500         0\n",
      "414         1       1    1  39.0      0      0  108.9000         2\n",
      "415         0       3    0  38.5      0      0    7.2500         0\n",
      "416         0       3    0   NaN      0      0    8.0500         0\n",
      "417         0       3    0   NaN      1      1   22.3583         2\n",
      "\n",
      "[418 rows x 8 columns]\n"
     ]
    }
   ],
   "source": [
    "titanic = pd.read_csv(\"titanic.csv\") # Leer conjunto de datos\n",
    "# los valores de sex tendran un rango de 0 a 1\n",
    "titanic.replace('male', 0, inplace=True)\n",
    "titanic.replace('female', 1, inplace=True)\n",
    "# los valores de embarked tendran un rango de 0 a 2\n",
    "titanic.replace('S', 0, inplace=True) # Southhampton\n",
    "titanic.replace('Q', 1, inplace=True) # Queenstown\n",
    "titanic.replace('C', 2, inplace=True) # Cherbourg\n",
    "# borrar atributos no relevantes\n",
    "titanic.drop(['Name', 'PassengerId', 'Ticket', 'Cabin'], inplace=True, axis=1)\n",
    "print(titanic)"
   ]
  },
  {
   "cell_type": "markdown",
   "metadata": {},
   "source": [
    "Como existen algunos datos que contienen valores de NaN, debemos eliminarlos para que tengan valores utiles para el procesamiento de datos."
   ]
  },
  {
   "cell_type": "code",
   "execution_count": 15,
   "metadata": {},
   "outputs": [
    {
     "data": {
      "text/html": [
       "<div>\n",
       "<style scoped>\n",
       "    .dataframe tbody tr th:only-of-type {\n",
       "        vertical-align: middle;\n",
       "    }\n",
       "\n",
       "    .dataframe tbody tr th {\n",
       "        vertical-align: top;\n",
       "    }\n",
       "\n",
       "    .dataframe thead th {\n",
       "        text-align: right;\n",
       "    }\n",
       "</style>\n",
       "<table border=\"1\" class=\"dataframe\">\n",
       "  <thead>\n",
       "    <tr style=\"text-align: right;\">\n",
       "      <th></th>\n",
       "      <th>Survived</th>\n",
       "      <th>Pclass</th>\n",
       "      <th>Sex</th>\n",
       "      <th>Age</th>\n",
       "      <th>SibSp</th>\n",
       "      <th>Parch</th>\n",
       "      <th>Fare</th>\n",
       "      <th>Embarked</th>\n",
       "    </tr>\n",
       "  </thead>\n",
       "  <tbody>\n",
       "    <tr>\n",
       "      <th>0</th>\n",
       "      <td>0</td>\n",
       "      <td>3</td>\n",
       "      <td>0</td>\n",
       "      <td>34.5</td>\n",
       "      <td>0</td>\n",
       "      <td>0</td>\n",
       "      <td>7.8292</td>\n",
       "      <td>1</td>\n",
       "    </tr>\n",
       "    <tr>\n",
       "      <th>1</th>\n",
       "      <td>1</td>\n",
       "      <td>3</td>\n",
       "      <td>1</td>\n",
       "      <td>47.0</td>\n",
       "      <td>1</td>\n",
       "      <td>0</td>\n",
       "      <td>7.0000</td>\n",
       "      <td>0</td>\n",
       "    </tr>\n",
       "    <tr>\n",
       "      <th>2</th>\n",
       "      <td>0</td>\n",
       "      <td>2</td>\n",
       "      <td>0</td>\n",
       "      <td>62.0</td>\n",
       "      <td>0</td>\n",
       "      <td>0</td>\n",
       "      <td>9.6875</td>\n",
       "      <td>1</td>\n",
       "    </tr>\n",
       "    <tr>\n",
       "      <th>3</th>\n",
       "      <td>0</td>\n",
       "      <td>3</td>\n",
       "      <td>0</td>\n",
       "      <td>27.0</td>\n",
       "      <td>0</td>\n",
       "      <td>0</td>\n",
       "      <td>8.6625</td>\n",
       "      <td>0</td>\n",
       "    </tr>\n",
       "    <tr>\n",
       "      <th>4</th>\n",
       "      <td>1</td>\n",
       "      <td>3</td>\n",
       "      <td>1</td>\n",
       "      <td>22.0</td>\n",
       "      <td>1</td>\n",
       "      <td>1</td>\n",
       "      <td>12.2875</td>\n",
       "      <td>0</td>\n",
       "    </tr>\n",
       "    <tr>\n",
       "      <th>...</th>\n",
       "      <td>...</td>\n",
       "      <td>...</td>\n",
       "      <td>...</td>\n",
       "      <td>...</td>\n",
       "      <td>...</td>\n",
       "      <td>...</td>\n",
       "      <td>...</td>\n",
       "      <td>...</td>\n",
       "    </tr>\n",
       "    <tr>\n",
       "      <th>409</th>\n",
       "      <td>1</td>\n",
       "      <td>3</td>\n",
       "      <td>1</td>\n",
       "      <td>3.0</td>\n",
       "      <td>1</td>\n",
       "      <td>1</td>\n",
       "      <td>13.7750</td>\n",
       "      <td>0</td>\n",
       "    </tr>\n",
       "    <tr>\n",
       "      <th>411</th>\n",
       "      <td>1</td>\n",
       "      <td>1</td>\n",
       "      <td>1</td>\n",
       "      <td>37.0</td>\n",
       "      <td>1</td>\n",
       "      <td>0</td>\n",
       "      <td>90.0000</td>\n",
       "      <td>1</td>\n",
       "    </tr>\n",
       "    <tr>\n",
       "      <th>412</th>\n",
       "      <td>1</td>\n",
       "      <td>3</td>\n",
       "      <td>1</td>\n",
       "      <td>28.0</td>\n",
       "      <td>0</td>\n",
       "      <td>0</td>\n",
       "      <td>7.7750</td>\n",
       "      <td>0</td>\n",
       "    </tr>\n",
       "    <tr>\n",
       "      <th>414</th>\n",
       "      <td>1</td>\n",
       "      <td>1</td>\n",
       "      <td>1</td>\n",
       "      <td>39.0</td>\n",
       "      <td>0</td>\n",
       "      <td>0</td>\n",
       "      <td>108.9000</td>\n",
       "      <td>2</td>\n",
       "    </tr>\n",
       "    <tr>\n",
       "      <th>415</th>\n",
       "      <td>0</td>\n",
       "      <td>3</td>\n",
       "      <td>0</td>\n",
       "      <td>38.5</td>\n",
       "      <td>0</td>\n",
       "      <td>0</td>\n",
       "      <td>7.2500</td>\n",
       "      <td>0</td>\n",
       "    </tr>\n",
       "  </tbody>\n",
       "</table>\n",
       "<p>331 rows × 8 columns</p>\n",
       "</div>"
      ],
      "text/plain": [
       "     Survived  Pclass  Sex   Age  SibSp  Parch      Fare  Embarked\n",
       "0           0       3    0  34.5      0      0    7.8292         1\n",
       "1           1       3    1  47.0      1      0    7.0000         0\n",
       "2           0       2    0  62.0      0      0    9.6875         1\n",
       "3           0       3    0  27.0      0      0    8.6625         0\n",
       "4           1       3    1  22.0      1      1   12.2875         0\n",
       "..        ...     ...  ...   ...    ...    ...       ...       ...\n",
       "409         1       3    1   3.0      1      1   13.7750         0\n",
       "411         1       1    1  37.0      1      0   90.0000         1\n",
       "412         1       3    1  28.0      0      0    7.7750         0\n",
       "414         1       1    1  39.0      0      0  108.9000         2\n",
       "415         0       3    0  38.5      0      0    7.2500         0\n",
       "\n",
       "[331 rows x 8 columns]"
      ]
     },
     "execution_count": 15,
     "metadata": {},
     "output_type": "execute_result"
    }
   ],
   "source": [
    "col = titanic.columns # obtengo lista de labels de las columnas\n",
    "titanic.dropna(subset = col, inplace=True) # eliminar filas con algun valor NaN\n",
    "titanic"
   ]
  },
  {
   "cell_type": "markdown",
   "metadata": {},
   "source": [
    "Una vez hemos limpiado la base de datos, continuamos separando los atributos en la base de datos (X) de la clase (Y)."
   ]
  },
  {
   "cell_type": "code",
   "execution_count": 16,
   "metadata": {},
   "outputs": [
    {
     "data": {
      "text/html": [
       "<div>\n",
       "<style scoped>\n",
       "    .dataframe tbody tr th:only-of-type {\n",
       "        vertical-align: middle;\n",
       "    }\n",
       "\n",
       "    .dataframe tbody tr th {\n",
       "        vertical-align: top;\n",
       "    }\n",
       "\n",
       "    .dataframe thead th {\n",
       "        text-align: right;\n",
       "    }\n",
       "</style>\n",
       "<table border=\"1\" class=\"dataframe\">\n",
       "  <thead>\n",
       "    <tr style=\"text-align: right;\">\n",
       "      <th></th>\n",
       "      <th>Pclass</th>\n",
       "      <th>Sex</th>\n",
       "      <th>Age</th>\n",
       "      <th>SibSp</th>\n",
       "      <th>Parch</th>\n",
       "      <th>Fare</th>\n",
       "      <th>Embarked</th>\n",
       "    </tr>\n",
       "  </thead>\n",
       "  <tbody>\n",
       "    <tr>\n",
       "      <th>0</th>\n",
       "      <td>3</td>\n",
       "      <td>0</td>\n",
       "      <td>34.5</td>\n",
       "      <td>0</td>\n",
       "      <td>0</td>\n",
       "      <td>7.8292</td>\n",
       "      <td>1</td>\n",
       "    </tr>\n",
       "    <tr>\n",
       "      <th>1</th>\n",
       "      <td>3</td>\n",
       "      <td>1</td>\n",
       "      <td>47.0</td>\n",
       "      <td>1</td>\n",
       "      <td>0</td>\n",
       "      <td>7.0000</td>\n",
       "      <td>0</td>\n",
       "    </tr>\n",
       "    <tr>\n",
       "      <th>2</th>\n",
       "      <td>2</td>\n",
       "      <td>0</td>\n",
       "      <td>62.0</td>\n",
       "      <td>0</td>\n",
       "      <td>0</td>\n",
       "      <td>9.6875</td>\n",
       "      <td>1</td>\n",
       "    </tr>\n",
       "    <tr>\n",
       "      <th>3</th>\n",
       "      <td>3</td>\n",
       "      <td>0</td>\n",
       "      <td>27.0</td>\n",
       "      <td>0</td>\n",
       "      <td>0</td>\n",
       "      <td>8.6625</td>\n",
       "      <td>0</td>\n",
       "    </tr>\n",
       "    <tr>\n",
       "      <th>4</th>\n",
       "      <td>3</td>\n",
       "      <td>1</td>\n",
       "      <td>22.0</td>\n",
       "      <td>1</td>\n",
       "      <td>1</td>\n",
       "      <td>12.2875</td>\n",
       "      <td>0</td>\n",
       "    </tr>\n",
       "    <tr>\n",
       "      <th>...</th>\n",
       "      <td>...</td>\n",
       "      <td>...</td>\n",
       "      <td>...</td>\n",
       "      <td>...</td>\n",
       "      <td>...</td>\n",
       "      <td>...</td>\n",
       "      <td>...</td>\n",
       "    </tr>\n",
       "    <tr>\n",
       "      <th>409</th>\n",
       "      <td>3</td>\n",
       "      <td>1</td>\n",
       "      <td>3.0</td>\n",
       "      <td>1</td>\n",
       "      <td>1</td>\n",
       "      <td>13.7750</td>\n",
       "      <td>0</td>\n",
       "    </tr>\n",
       "    <tr>\n",
       "      <th>411</th>\n",
       "      <td>1</td>\n",
       "      <td>1</td>\n",
       "      <td>37.0</td>\n",
       "      <td>1</td>\n",
       "      <td>0</td>\n",
       "      <td>90.0000</td>\n",
       "      <td>1</td>\n",
       "    </tr>\n",
       "    <tr>\n",
       "      <th>412</th>\n",
       "      <td>3</td>\n",
       "      <td>1</td>\n",
       "      <td>28.0</td>\n",
       "      <td>0</td>\n",
       "      <td>0</td>\n",
       "      <td>7.7750</td>\n",
       "      <td>0</td>\n",
       "    </tr>\n",
       "    <tr>\n",
       "      <th>414</th>\n",
       "      <td>1</td>\n",
       "      <td>1</td>\n",
       "      <td>39.0</td>\n",
       "      <td>0</td>\n",
       "      <td>0</td>\n",
       "      <td>108.9000</td>\n",
       "      <td>2</td>\n",
       "    </tr>\n",
       "    <tr>\n",
       "      <th>415</th>\n",
       "      <td>3</td>\n",
       "      <td>0</td>\n",
       "      <td>38.5</td>\n",
       "      <td>0</td>\n",
       "      <td>0</td>\n",
       "      <td>7.2500</td>\n",
       "      <td>0</td>\n",
       "    </tr>\n",
       "  </tbody>\n",
       "</table>\n",
       "<p>331 rows × 7 columns</p>\n",
       "</div>"
      ],
      "text/plain": [
       "     Pclass  Sex   Age  SibSp  Parch      Fare  Embarked\n",
       "0         3    0  34.5      0      0    7.8292         1\n",
       "1         3    1  47.0      1      0    7.0000         0\n",
       "2         2    0  62.0      0      0    9.6875         1\n",
       "3         3    0  27.0      0      0    8.6625         0\n",
       "4         3    1  22.0      1      1   12.2875         0\n",
       "..      ...  ...   ...    ...    ...       ...       ...\n",
       "409       3    1   3.0      1      1   13.7750         0\n",
       "411       1    1  37.0      1      0   90.0000         1\n",
       "412       3    1  28.0      0      0    7.7750         0\n",
       "414       1    1  39.0      0      0  108.9000         2\n",
       "415       3    0  38.5      0      0    7.2500         0\n",
       "\n",
       "[331 rows x 7 columns]"
      ]
     },
     "execution_count": 16,
     "metadata": {},
     "output_type": "execute_result"
    }
   ],
   "source": [
    "# comienzo separando los atributos de la clase\n",
    "X = titanic.iloc[:,1:]\n",
    "X # almacena todos los atributos"
   ]
  },
  {
   "cell_type": "code",
   "execution_count": 17,
   "metadata": {},
   "outputs": [
    {
     "data": {
      "text/plain": [
       "0      0\n",
       "1      1\n",
       "2      0\n",
       "3      0\n",
       "4      1\n",
       "      ..\n",
       "409    1\n",
       "411    1\n",
       "412    1\n",
       "414    1\n",
       "415    0\n",
       "Name: Survived, Length: 331, dtype: int64"
      ]
     },
     "execution_count": 17,
     "metadata": {},
     "output_type": "execute_result"
    }
   ],
   "source": [
    "# separando la clase\n",
    "Y = titanic.iloc[:,0]\n",
    "Y # almacena la clase"
   ]
  },
  {
   "cell_type": "markdown",
   "metadata": {},
   "source": [
    "Terminamos con el preprocesamiento con una estandarizacion de los datos."
   ]
  },
  {
   "cell_type": "code",
   "execution_count": 18,
   "metadata": {},
   "outputs": [],
   "source": [
    "# estandarizacion/escalamiento de los datos\n",
    "rescaledX = StandardScaler().fit_transform(X)\n",
    "Xnuevo = pd.DataFrame(data = rescaledX, columns=X.columns)"
   ]
  },
  {
   "cell_type": "markdown",
   "metadata": {},
   "source": [
    "## Entrenamiento de Modelo\n",
    "Una vez finalizada la limpieza, la separación y la estandarización de los datos, podemos continuar con el entrenamiento del modelo predictivo."
   ]
  },
  {
   "cell_type": "code",
   "execution_count": 19,
   "metadata": {},
   "outputs": [],
   "source": [
    "# separacion de mis datos para entrenamiento y prueba\n",
    "X_train, X_test, Y_train, Y_test = train_test_split(Xnuevo, Y, random_state=11, test_size=0.1, train_size=0.9)"
   ]
  },
  {
   "cell_type": "code",
   "execution_count": 20,
   "metadata": {},
   "outputs": [
    {
     "name": "stdout",
     "output_type": "stream",
     "text": [
      "Accuracy of  Naive Bayes  =  1.0\n",
      "Accuracy of  Bernoulli  =  1.0\n"
     ]
    }
   ],
   "source": [
    "# entrenamiento del modelo de aprencizaje con validacion cruzada con 10 folds\n",
    "models = [] # lista de modelos de aprendizaje predictivo\n",
    "models.append((\"Naive Bayes\", GaussianNB()))\n",
    "models.append((\"Bernoulli\", BernoulliNB()))\n",
    "\n",
    "results = []\n",
    "names = []\n",
    "\n",
    "for name, model in models:\n",
    "    kfold = KFold(n_splits=10)\n",
    "    cv_result = cross_val_score(model, X_train, Y_train, cv=kfold, scoring=\"accuracy\")\n",
    "    names.append(name)\n",
    "    results.append(cv_result)\n",
    "\n",
    "for i in range(len(names)):\n",
    "    print(\"Accuracy of \", names[i], \" = \", results[i].mean())"
   ]
  },
  {
   "cell_type": "code",
   "execution_count": 21,
   "metadata": {},
   "outputs": [
    {
     "data": {
      "image/png": "[encoded data removed]",
      "text/plain": [
       "<Figure size 432x288 with 1 Axes>"
      ]
     },
     "metadata": {
      "needs_background": "light"
     },
     "output_type": "display_data"
    }
   ],
   "source": [
    "# impresión de los resultados de los modelos\n",
    "ax = sns.boxplot(data = results)\n",
    "ax.set_xticklabels(names)\n",
    "plt.show()"
   ]
  },
  {
   "cell_type": "code",
   "execution_count": 22,
   "metadata": {},
   "outputs": [
    {
     "data": {
      "text/plain": [
       "array([1, 1, 0, 1, 0, 0, 0, 0, 1, 1, 0, 1, 1, 0, 0, 1, 0, 0, 1, 1, 1, 0,\n",
       "       0, 0, 0, 0, 1, 0, 1, 0, 1, 0, 0, 0], dtype=int64)"
      ]
     },
     "execution_count": 22,
     "metadata": {},
     "output_type": "execute_result"
    }
   ],
   "source": [
    "pruebaNaive = GaussianNB() # cargo nuevamente el modelo\n",
    "pruebaNaive.fit(X_train, Y_train) # genero el modelo con los datos de entrenamiento\n",
    "naive_prediction = pruebaNaive.predict(X_test) # hacemos la prediccion propiamente dicha\n",
    "\n",
    "naive_prediction"
   ]
  },
  {
   "cell_type": "code",
   "execution_count": 23,
   "metadata": {},
   "outputs": [
    {
     "name": "stdout",
     "output_type": "stream",
     "text": [
      "284    1\n",
      "345    1\n",
      "128    0\n",
      "213    1\n",
      "302    0\n",
      "126    0\n",
      "281    0\n",
      "295    0\n",
      "197    1\n",
      "15     1\n",
      "370    0\n",
      "248    1\n",
      "362    1\n",
      "373    0\n",
      "194    0\n",
      "309    1\n",
      "277    0\n",
      "404    0\n",
      "141    1\n",
      "63     1\n",
      "305    1\n",
      "341    0\n",
      "293    0\n",
      "21     0\n",
      "17     0\n",
      "71     0\n",
      "122    1\n",
      "298    0\n",
      "385    1\n",
      "190    0\n",
      "104    1\n",
      "388    0\n",
      "13     0\n",
      "221    0\n",
      "Name: Survived, dtype: int64\n"
     ]
    }
   ],
   "source": [
    "print(Y_test)"
   ]
  },
  {
   "cell_type": "code",
   "execution_count": 24,
   "metadata": {},
   "outputs": [
    {
     "name": "stdout",
     "output_type": "stream",
     "text": [
      "Analisis de precision de la etapa de pruebas\n"
     ]
    },
    {
     "data": {
      "text/plain": [
       "1.0"
      ]
     },
     "execution_count": 24,
     "metadata": {},
     "output_type": "execute_result"
    }
   ],
   "source": [
    "print(\"Analisis de precision de la etapa de pruebas\")\n",
    "accuracy_score(Y_test, naive_prediction)"
   ]
  },
  {
   "cell_type": "code",
   "execution_count": 25,
   "metadata": {},
   "outputs": [
    {
     "name": "stdout",
     "output_type": "stream",
     "text": [
      "              precision    recall  f1-score   support\n",
      "\n",
      "           0       1.00      1.00      1.00        20\n",
      "           1       1.00      1.00      1.00        14\n",
      "\n",
      "    accuracy                           1.00        34\n",
      "   macro avg       1.00      1.00      1.00        34\n",
      "weighted avg       1.00      1.00      1.00        34\n",
      "\n"
     ]
    }
   ],
   "source": [
    "print(classification_report(Y_test, naive_prediction))"
   ]
  },
  {
   "cell_type": "code",
   "execution_count": 26,
   "metadata": {},
   "outputs": [
    {
     "data": {
      "image/png": "[encoded data removed]",
      "text/plain": [
       "<Figure size 432x288 with 2 Axes>"
      ]
     },
     "metadata": {
      "needs_background": "light"
     },
     "output_type": "display_data"
    }
   ],
   "source": [
    "mat_confusion = confusion_matrix(Y_test, naive_prediction)\n",
    "sns.heatmap(mat_confusion, annot=True)\n",
    "plt.show()"
   ]
  },
  {
   "cell_type": "code",
   "execution_count": 27,
   "metadata": {},
   "outputs": [
    {
     "name": "stdout",
     "output_type": "stream",
     "text": [
      "Puntaje de test F1\n"
     ]
    },
    {
     "data": {
      "text/plain": [
       "1.0"
      ]
     },
     "execution_count": 27,
     "metadata": {},
     "output_type": "execute_result"
    }
   ],
   "source": [
    "# Puntaje F1\n",
    "print(\"Puntaje de test F1\")\n",
    "f1_score(Y_test, naive_prediction, average='weighted')"
   ]
  },
  {
   "cell_type": "code",
   "execution_count": 28,
   "metadata": {},
   "outputs": [
    {
     "name": "stdout",
     "output_type": "stream",
     "text": [
      "Puntaje de test recall\n"
     ]
    },
    {
     "data": {
      "text/plain": [
       "1.0"
      ]
     },
     "execution_count": 28,
     "metadata": {},
     "output_type": "execute_result"
    }
   ],
   "source": [
    "# Puntaje de recall\n",
    "print(\"Puntaje de test recall\")\n",
    "recall_score(Y_test, naive_prediction, average='weighted')"
   ]
  },
  {
   "cell_type": "markdown",
   "metadata": {},
   "source": [
    "## Analisis de Datos por Clustering"
   ]
  },
  {
   "cell_type": "code",
   "execution_count": 29,
   "metadata": {},
   "outputs": [
    {
     "data": {
      "text/plain": [
       "array([[  1.12068966,   0.5       ,  38.06034483,   0.74137931,\n",
       "          0.46551724,  84.02780517,   1.0862069 ],\n",
       "       [  1.        ,   0.66666667,  43.80555556,   0.77777778,\n",
       "          1.        , 252.66250556,   1.33333333],\n",
       "       [  2.45490196,   0.3372549 ,  27.42745098,   0.40392157,\n",
       "          0.34117647,  16.24914941,   0.38823529]])"
      ]
     },
     "execution_count": 29,
     "metadata": {},
     "output_type": "execute_result"
    }
   ],
   "source": [
    "k = 3\n",
    "kmeans = KMeans(n_clusters = k, init='random') # instanciacion del modelo k-means\n",
    "kmeans.fit(X) # realizo el clustering sobre los datos\n",
    "centros = kmeans.cluster_centers_\n",
    "centros"
   ]
  },
  {
   "cell_type": "code",
   "execution_count": 30,
   "metadata": {},
   "outputs": [
    {
     "data": {
      "text/plain": [
       "array([[236.24841632,  73.41979326,  11.04450907],\n",
       "       [236.9186533 ,  74.73674882,  21.6792583 ],\n",
       "       [234.90971716,  75.43086812,  35.20356339],\n",
       "       [235.83336588,  73.32782933,   7.65383022],\n",
       "       [232.62892986,  70.69566011,   6.84312339],\n",
       "       [236.55489826,  75.81073037,  15.18144487],\n",
       "       [236.66685594,  73.96198541,   9.07258008],\n",
       "       [215.62362946,  53.49847824,  12.87954069],\n",
       "       [238.06630102,  76.56944692,  13.18521982],\n",
       "       [220.9289172 ,  59.49129152,  10.34219673],\n",
       "       [217.9019209 ,  55.7581124 ,  21.03994833],\n",
       "       [162.95377353,  14.9692105 ,  66.18986113],\n",
       "       [218.73819312,  60.61988675,  36.89753982],\n",
       "       [182.74330079,  21.99698184,  49.03667132],\n",
       "       [217.07105383,  55.20881411,  12.12690606],\n",
       "       [231.7054671 ,  68.86351958,   8.57445926],\n",
       "       [237.76501339,  75.85054151,  11.22655829],\n",
       "       [236.56726421,  74.05349288,   8.41623302],\n",
       "       [236.67425206,  74.29490708,  19.84548951],\n",
       "       [184.82959109,  27.70449302,  51.2595488 ],\n",
       "       [243.22429   ,  83.17713871,  22.62239982],\n",
       "       [183.92372812,  26.01657276,  45.6449237 ],\n",
       "       [ 19.10065347, 181.53812535, 247.00960003],\n",
       "       [229.48225292,  67.77554624,  22.66302723],\n",
       "       [183.20601326,  24.91537905,  46.11340053],\n",
       "       [237.62602254,  75.531162  ,  10.44046254],\n",
       "       [213.4087646 ,  50.76033389,  19.74744517],\n",
       "       [217.98061182,  56.48263917,  24.60776647],\n",
       "       [213.31405241,  51.58029199,  15.7312153 ],\n",
       "       [223.58277548,  60.82215922,   7.33214706],\n",
       "       [186.64737848,  24.7044393 ,  41.64419029],\n",
       "       [238.01331618,  76.44124626,  12.81979253],\n",
       "       [236.33530515,  74.45376693,  10.00180079],\n",
       "       [235.14927952,  72.82674823,   7.23081527],\n",
       "       [230.527892  ,  67.77320231,  12.0645149 ],\n",
       "       [236.06475766,  73.39726008,  15.98752486],\n",
       "       [231.30219018,  68.61552033,   4.27216899],\n",
       "       [191.33925142,  29.49390331,  40.37362488],\n",
       "       [236.71918067,  74.37663674,   8.71923936],\n",
       "       [214.19232826,  51.95043838,  22.24472254],\n",
       "       [168.38140284,  22.69874277,  68.34846115],\n",
       "       [228.13130477,  65.32827535,   8.79843394],\n",
       "       [184.95082652,  25.31810657,  43.91739138],\n",
       "       [229.47130319,  67.01357616,   2.20431855],\n",
       "       [222.16805504,  60.85777232,  10.22347397],\n",
       "       [ 24.9407434 , 182.15129942, 246.77623081],\n",
       "       [217.43216063,  59.13359374,  21.99214708],\n",
       "       [236.16572844,  73.34057072,  11.31207755],\n",
       "       [236.99329733,  74.64735999,   8.98215132],\n",
       "       [ 20.11554033, 181.24889623, 246.28612676],\n",
       "       [237.51663371,  76.19723017,  13.39221168],\n",
       "       [230.69302169,  67.91711598,   5.40527375],\n",
       "       [237.55091327,  76.07013352,  12.72609626],\n",
       "       [237.17154902,  75.14091297,  10.17391372],\n",
       "       [ 35.95531898, 182.94574203, 246.56888104],\n",
       "       [237.41890476,  75.93726193,  12.6618742 ],\n",
       "       [201.51698983,  39.83189598,  32.70492964],\n",
       "       [215.72987784,  53.06645915,  12.99517167],\n",
       "       [ 25.29111863, 183.23976142, 248.92449099],\n",
       "       [236.97138307,  74.71962498,   9.23975833],\n",
       "       [237.09903267,  75.20032789,  10.5797791 ],\n",
       "       [236.4349181 ,  73.78994187,   8.53996589],\n",
       "       [216.70698514,  54.25143788,  11.74124988],\n",
       "       [ 33.58395386, 130.39773889, 195.41154384],\n",
       "       [ 34.32647603, 130.47662881, 195.3298063 ],\n",
       "       [218.48070141,  58.0564573 ,  29.23926472],\n",
       "       [231.30283868,  68.61552033,   4.23390336],\n",
       "       [236.97138307,  74.71962498,   9.23975833],\n",
       "       [231.74773581,  73.22885585,  21.53927533],\n",
       "       [ 32.10611755, 143.63071498, 209.31182778],\n",
       "       [217.95319941,  56.27406747,  23.73003834],\n",
       "       [236.61104441,  74.09371406,   8.46338824],\n",
       "       [237.25207405,  75.78074157,  12.54071476],\n",
       "       [224.80512601,  68.33262049,  26.33229971],\n",
       "       [231.02559148,  69.1256357 ,   6.02781283],\n",
       "       [192.6218706 ,  31.16414891,  35.83461643],\n",
       "       [218.69612967,  56.63781509,  10.29948666],\n",
       "       [236.8479654 ,  74.50382355,   8.8426686 ],\n",
       "       [168.15720163,  38.22634084,  79.25488894],\n",
       "       [236.43555252,  73.78994187,   8.5208877 ],\n",
       "       [237.23793362,  75.47130026,  11.26094345],\n",
       "       [236.0944655 ,  73.2921459 ,   9.95592824],\n",
       "       [188.44740222,  26.23175988,  42.23962324],\n",
       "       [218.53648925,  56.22390784,   9.80841046],\n",
       "       [236.79153358,  74.35818153,   8.64233637],\n",
       "       [237.00957364,  75.87655405,  13.94635853],\n",
       "       [221.935822  ,  59.48906767,   6.36830169],\n",
       "       [237.17072961,  75.26507606,  10.64959543],\n",
       "       [232.27156128,  70.86084443,   9.53977517],\n",
       "       [228.86165669,  66.18849493,  13.74263995],\n",
       "       [212.35135749,  49.51496433,  17.80472881],\n",
       "       [237.9576342 ,  76.38402865,  12.70732111],\n",
       "       [ 29.33773652, 142.87305854, 208.59335164],\n",
       "       [230.88507527,  69.61723656,   9.77645357],\n",
       "       [231.18695797,  74.27712978,  26.46299074],\n",
       "       [168.82784396,   6.33164717,  59.65498673],\n",
       "       [218.3913852 ,  55.87184915,   9.94085519],\n",
       "       [230.3438942 ,  70.34242562,  15.47035363],\n",
       "       [186.3442886 ,  23.59340176,  42.25268708],\n",
       "       [237.17360587,  74.58541739,   9.0638654 ],\n",
       "       [229.36453311,  68.34885928,  10.49944142],\n",
       "       [237.10463664,  75.08006494,  10.08749195],\n",
       "       [230.89911906,  68.28838786,  14.95550448],\n",
       "       [236.67603731,  74.43337918,   8.93390311],\n",
       "       [236.14221698,  73.36532418,   9.43267772],\n",
       "       [215.58625306,  54.78949342,  28.44549918],\n",
       "       [236.00392219,  73.46415569,  17.6953068 ],\n",
       "       [236.87114039,  74.62565639,   9.1139316 ],\n",
       "       [237.30134132,  74.81996967,   9.25114318],\n",
       "       [231.57548053,  69.18828082,   3.65315556],\n",
       "       [236.76105389,  74.62613536,   9.38056591],\n",
       "       [197.09883527,  34.82408926,  33.62265342],\n",
       "       [199.91936091,  44.43417338,  35.60833346],\n",
       "       [ 92.97578805,  70.59360621, 135.42658426],\n",
       "       [ 25.3768588 , 182.72540354, 248.42967474],\n",
       "       [218.46314822,  56.04369429,   9.80601126],\n",
       "       [217.34782818,  54.76808741,  17.92002983],\n",
       "       [226.27002438,  63.59402857,   4.82143218],\n",
       "       [236.85152868,  74.83175944,   9.87544574],\n",
       "       [218.32463702,  55.7225521 ,  10.14681511],\n",
       "       [162.06582985,  15.06491029,  67.09834359],\n",
       "       [231.84562612,  69.04026109,   9.68615847],\n",
       "       [214.75319269,  55.78220832,  21.29709077],\n",
       "       [237.17425991,  74.9244195 ,   9.39488021],\n",
       "       [ 26.6440009 , 140.92588021, 205.54333085],\n",
       "       [236.95608697,  74.81791721,   9.55217993],\n",
       "       [217.34782818,  54.76808741,  17.92002983],\n",
       "       [230.80908837,  68.460891  ,   3.45846343],\n",
       "       [231.58683696,  72.79926639,  20.54471902],\n",
       "       [231.07632994,  68.69590599,   3.26678532],\n",
       "       [230.90897164,  68.23515267,  13.98291873],\n",
       "       [222.58148398,  60.33946129,   6.08888445],\n",
       "       [193.43980521,  32.30504334,  40.0146307 ],\n",
       "       [211.10767102,  50.89836762,  20.5738682 ],\n",
       "       [235.94233238,  73.94074889,   9.1498157 ],\n",
       "       [237.26546649,  74.7456473 ,   9.21445599],\n",
       "       [230.93413329,  68.90298519,   5.1141114 ],\n",
       "       [212.58147561,  50.05598059,  20.24500415],\n",
       "       [206.90394168,  47.99893893,  25.99527807],\n",
       "       [208.5025821 ,  47.88308913,  21.82952932],\n",
       "       [188.7238019 ,  30.36530348,  47.407345  ],\n",
       "       [205.04826525,  42.29177895,  24.47691132],\n",
       "       [161.99963953,  26.28697574,  76.30500887],\n",
       "       [231.30283868,  68.61552033,   4.23390336],\n",
       "       [160.87085879,   2.49028554,  67.63198763],\n",
       "       [192.52273267,  34.39114802,  38.07939639],\n",
       "       [ 17.18901566, 166.73868576, 231.284894  ],\n",
       "       [227.92368379,  65.19911036,  12.6048412 ],\n",
       "       [224.05049962,  62.48599136,   8.07940604],\n",
       "       [237.36553381,  76.05559109,  13.38593486],\n",
       "       [230.92315428,  68.19654098,  13.01448877],\n",
       "       [218.11085973,  55.29921168,  11.79917802],\n",
       "       [231.65519508,  71.70448798,  16.0653097 ],\n",
       "       [232.17907633,  72.58890146,  33.81262931],\n",
       "       [214.39943821,  57.1235701 ,  25.39492563],\n",
       "       [236.29004878,  73.48740917,  10.11778788],\n",
       "       [115.73375656,  62.18209857, 120.20874525],\n",
       "       [237.525431  ,  76.04601438,  12.72221222],\n",
       "       [234.31499697,  72.20919706,   7.30794078],\n",
       "       [233.5752735 ,  76.62395253,  27.2243944 ],\n",
       "       [ 16.73349441, 146.67344929, 212.19300105],\n",
       "       [220.80635664,  62.73045477,  21.77363521],\n",
       "       [234.14614626,  71.8241175 ,   6.30049161],\n",
       "       [236.30782127,  73.47767542,  11.4441781 ],\n",
       "       [234.22845217,  72.00997151,   6.74915524],\n",
       "       [216.4356542 ,  53.65793389,  12.96477459],\n",
       "       [236.74828677,  74.40538114,   8.74712056],\n",
       "       [221.68741301,  58.9577866 ,   7.8189295 ],\n",
       "       [172.48643209,  22.2897414 ,  58.19916309],\n",
       "       [218.49427254,  59.43876764,  34.01938626],\n",
       "       [236.21500878,  73.48806913,  14.14781136],\n",
       "       [201.39900845,  38.89090525,  30.06870637],\n",
       "       [ 80.12734825,  85.89546402, 151.54168589],\n",
       "       [ 32.98836093, 130.9280703 , 196.56642068],\n",
       "       [230.44263111,  67.7558557 ,   4.00622423],\n",
       "       [236.94555628,  75.05014566,  10.45845737],\n",
       "       [234.40513605,  72.42168379,   7.97410751],\n",
       "       [237.1985639 ,  75.29773101,  10.65891157],\n",
       "       [216.63877124,  55.80311446,  28.01345316],\n",
       "       [237.01489134,  74.87512276,   9.58658395],\n",
       "       [228.8223763 ,  66.13713921,  13.15497   ],\n",
       "       [231.0231659 ,  68.18868509,   9.20850291],\n",
       "       [181.35594554,  28.86470043,  50.5736377 ],\n",
       "       [218.52992567,  57.15696281,  12.26400833],\n",
       "       [238.49145737,  76.56131555,  11.72489919],\n",
       "       [172.67153406,   9.98816676,  56.28482565],\n",
       "       [237.2385659 ,  75.47130026,  11.24648199],\n",
       "       [169.84740657,  26.81402434,  69.45467363],\n",
       "       [237.86288401,  76.07914819,  11.82753199],\n",
       "       [232.32284257,  70.99610393,  10.05087336],\n",
       "       [137.52912154,  27.26355728,  92.52318234],\n",
       "       [216.45852353,  56.11654592,  29.95459125],\n",
       "       [213.89631538,  51.68623109,  22.3962522 ],\n",
       "       [109.39493776,  53.84689761, 119.57288893],\n",
       "       [192.04783712,  29.47615849,  38.14941343],\n",
       "       [223.95306736,  62.22295031,   7.2872665 ],\n",
       "       [211.39730156,  48.8429931 ,  21.85658004],\n",
       "       [218.3913852 ,  55.87184915,   9.94085519],\n",
       "       [220.34908621,  64.96369293,  28.96236213],\n",
       "       [237.16812706,  75.40255173,  11.19373239],\n",
       "       [108.41879926,  56.7011755 , 120.55279253],\n",
       "       [235.40560381,  73.18177554,   7.78025827],\n",
       "       [234.66957335,  71.88180706,   8.4925217 ],\n",
       "       [236.37543578,  73.79294929,   8.27012798],\n",
       "       [232.21703896,  70.72583122,   9.09149875],\n",
       "       [237.21926645,  75.31799171,  10.67541511],\n",
       "       [226.6148019 ,  63.7969633 ,   9.20157123],\n",
       "       [237.14043761,  75.24084676,  10.61265542],\n",
       "       [221.38607608,  58.85703522,   7.19434748],\n",
       "       [235.62691771,  78.22794401,  26.76971693],\n",
       "       [231.56313529,  68.87258094,   4.70613495],\n",
       "       [236.75488688,  75.46053261,  12.92788214],\n",
       "       [168.66339524,  10.13747144,  61.88835449],\n",
       "       [108.57663669,  56.90127807, 120.5618355 ],\n",
       "       [219.18427665,  57.98493609,  12.30913156],\n",
       "       [233.92470542,  71.34779202,   5.84221607],\n",
       "       [217.92440692,  55.2051624 ,  15.94023809],\n",
       "       [223.31676243,  60.674034  ,   5.48923528],\n",
       "       [234.40577597,  72.42168379,   7.95367213],\n",
       "       [236.15096117,  74.02634075,   8.85020989],\n",
       "       [234.1083836 ,  76.94882244,  26.81713563],\n",
       "       [231.27702664,  71.97408493,  18.56612954],\n",
       "       [227.55051559,  70.73896799,  25.76703046],\n",
       "       [236.77609533,  73.95354856,  12.46252142],\n",
       "       [162.83022541,  13.97659186,  66.12803735],\n",
       "       [237.34487371,  74.63708611,   9.72020377],\n",
       "       [162.29296729,  15.21287221,  70.43923956],\n",
       "       [234.52746887,  71.70552061,  10.94900762],\n",
       "       [236.6710825 ,  74.23899649,   8.52392023],\n",
       "       [206.78352273,  54.11489457,  36.69295008],\n",
       "       [198.86895951,  36.53004263,  29.40902973],\n",
       "       [236.50620954,  73.86019143,   8.59006632],\n",
       "       [236.41685721,  73.63929864,   9.6726711 ],\n",
       "       [222.89196123,  60.38536225,  16.31390415],\n",
       "       [236.06572488,  73.83201868,   8.37531032],\n",
       "       [218.27569359,  60.53930693,  38.04148946],\n",
       "       [ 93.37101887,  70.87521798, 135.34558135],\n",
       "       [238.4457872 ,  80.81742504,  27.49875382],\n",
       "       [150.80766644,  21.17084081,  82.04334185],\n",
       "       [229.7920939 ,  67.45031606,  17.74081497],\n",
       "       [236.6438811 ,  75.19015786,  12.13570083],\n",
       "       [237.67130999,  75.63446638,  10.68553737],\n",
       "       [236.24200811,  73.42686497,  12.85532607],\n",
       "       [108.84029326,  57.13863911, 122.54898686],\n",
       "       [237.6745117 ,  76.34526105,  13.51449585],\n",
       "       [ 98.26653301,  68.13203194, 133.60590773],\n",
       "       [234.70346782,  73.13751918,  10.23843769],\n",
       "       [236.63957224,  74.12686533,   8.4557107 ],\n",
       "       [213.50874679,  52.15353111,  16.28437714],\n",
       "       [236.79153358,  74.35818153,   8.64233637],\n",
       "       [237.41106478,  75.05834532,   9.51526237],\n",
       "       [231.57548053,  69.18828082,   3.65315556],\n",
       "       [217.60751001,  54.82821066,  11.82461782],\n",
       "       [ 32.93983627, 130.21060391, 195.43892826],\n",
       "       [237.75778113,  75.60582968,  10.25025978],\n",
       "       [207.34220767,  49.4876059 ,  27.55695655],\n",
       "       [164.70562805,   8.46973604,  65.67234568],\n",
       "       [218.39207204,  55.87184915,   9.92447035],\n",
       "       [232.01282978,  70.21879319,   7.25396825],\n",
       "       [207.18621273,  45.58983529,  29.10715358],\n",
       "       [214.24204416,  51.4707772 ,  17.88734448],\n",
       "       [229.49302096,  68.10168005,   8.6834867 ],\n",
       "       [236.59807964,  74.0857372 ,   8.4144111 ],\n",
       "       [218.32555309,  55.71966784,  10.21556934],\n",
       "       [231.19235104,  68.41509589,   5.67592581],\n",
       "       [236.71610355,  73.97058915,  14.8730254 ],\n",
       "       [213.22132857,  51.3107628 ,  15.46712382],\n",
       "       [234.8111322 ,  73.40183141,  11.07612334],\n",
       "       [236.61240156,  73.83437309,   9.84466255],\n",
       "       [268.8253721 , 431.6604879 , 497.02700963],\n",
       "       [237.87491036,  76.71256507,  14.34219823],\n",
       "       [231.57548053,  69.18828082,   3.65315556],\n",
       "       [236.73733056,  73.94753102,  14.02683081],\n",
       "       [231.23942193,  69.06947072,   4.4784149 ],\n",
       "       [223.25775772,  60.55663679,   6.03408115],\n",
       "       [180.5324579 ,  19.20904709,  50.3370391 ],\n",
       "       [234.14614626,  71.8241175 ,   6.30049161],\n",
       "       [172.33403395,  21.35650788,  58.02833517],\n",
       "       [178.97046958,  19.72786831,  53.3441535 ],\n",
       "       [227.54022258,  71.39082716,  27.67084588],\n",
       "       [217.97946493,  56.48042605,  24.64264226],\n",
       "       [193.01559916,  36.46583245,  47.36404629],\n",
       "       [228.76232811,  66.1008665 ,   2.90957365],\n",
       "       [176.9421427 ,  27.20790014,  55.3995791 ],\n",
       "       [207.82609312,  46.28638533,  21.13179726],\n",
       "       [223.25775772,  60.55663679,   6.03408115],\n",
       "       [235.83336588,  73.32782933,   7.65383022],\n",
       "       [189.37878288,  28.76254158,  39.33921716],\n",
       "       [205.37027466,  44.45120327,  24.08277696],\n",
       "       [184.49058985,  22.92229899,  46.65341727],\n",
       "       [230.5063041 ,  67.88290008,   3.37447588],\n",
       "       [233.50450093,  71.67182865,   8.05044473],\n",
       "       [110.13651713,  53.81604737, 118.32776547],\n",
       "       [243.9457096 ,  81.9151217 ,  27.05680116],\n",
       "       [230.89240607,  68.43858291,  16.91027233],\n",
       "       [162.35195481,  16.20800229,  70.81071287],\n",
       "       [ 18.59260506, 181.37963804, 246.76337272],\n",
       "       [236.24315114,  74.24036145,   9.51658714],\n",
       "       [233.50557157,  71.67531668,   8.03850133],\n",
       "       [194.21615981,  35.57561141,  43.61222462],\n",
       "       [216.04474946,  59.77885837,  27.35699711],\n",
       "       [236.68467703,  74.24695688,   8.55326559],\n",
       "       [229.14054431,  67.76083567,   8.50899383],\n",
       "       [179.98299637,  21.38907103,  48.91111072],\n",
       "       [236.95005882,  74.70343665,   9.18693539],\n",
       "       [231.27073568,  70.7977526 ,  29.76312458],\n",
       "       [237.24119877,  75.33404798,  10.70571575],\n",
       "       [226.01161379,  68.07140207,  22.13955195],\n",
       "       [151.82210727,  19.39230887,  77.39481249],\n",
       "       [204.61572457,  43.78546568,  33.08973933],\n",
       "       [225.75719982,  65.83275204,  15.08756424],\n",
       "       [233.41447643,  71.25024008,  20.41784395],\n",
       "       [222.3739351 ,  59.86362969,   6.60065387],\n",
       "       [185.68739384,  29.04133911,  44.79053658],\n",
       "       [237.47024933,  75.21079084,   9.68487445],\n",
       "       [164.73962459,  10.38477595,  66.2720339 ],\n",
       "       [237.12534739,  75.10038437,  10.10492879],\n",
       "       [236.50744917,  73.75872074,   9.2923345 ],\n",
       "       [ 80.22681558,  84.10842507, 148.64985907],\n",
       "       [222.96631221,  60.16212479,  11.63152992],\n",
       "       [185.7671331 ,  26.949417  ,  43.55690632],\n",
       "       [198.6045007 ,  39.95587098,  32.60624905],\n",
       "       [216.16820397,  53.6782306 ,  19.47827064],\n",
       "       [231.25348439,  69.62838685,   8.00382031],\n",
       "       [234.31393003,  72.20573481,   7.3210761 ],\n",
       "       [ 32.99290767, 130.9280703 , 196.56559274],\n",
       "       [233.70469673,  75.88913923,  24.58654559],\n",
       "       [154.03565409,   8.93289179,  74.39236248],\n",
       "       [236.6491715 ,  74.06534193,   8.56187271],\n",
       "       [135.07560167,  27.81499133,  93.39987856],\n",
       "       [236.7071911 ,  73.93271933,  14.29780351]])"
      ]
     },
     "execution_count": 30,
     "metadata": {},
     "output_type": "execute_result"
    }
   ],
   "source": [
    "distancias = KMeans.fit_transform(kmeans,X) # distancia\n",
    "distancias"
   ]
  },
  {
   "cell_type": "code",
   "execution_count": 31,
   "metadata": {},
   "outputs": [
    {
     "data": {
      "text/plain": [
       "array([2, 2, 2, 2, 2, 2, 2, 2, 2, 2, 2, 1, 2, 1, 2, 2, 2, 2, 2, 1, 2, 1,\n",
       "       0, 2, 1, 2, 2, 2, 2, 2, 1, 2, 2, 2, 2, 2, 2, 1, 2, 2, 1, 2, 1, 2,\n",
       "       2, 0, 2, 2, 2, 0, 2, 2, 2, 2, 0, 2, 2, 2, 0, 2, 2, 2, 2, 0, 0, 2,\n",
       "       2, 2, 2, 0, 2, 2, 2, 2, 2, 1, 2, 2, 1, 2, 2, 2, 1, 2, 2, 2, 2, 2,\n",
       "       2, 2, 2, 2, 0, 2, 2, 1, 2, 2, 1, 2, 2, 2, 2, 2, 2, 2, 2, 2, 2, 2,\n",
       "       2, 2, 2, 1, 0, 2, 2, 2, 2, 2, 1, 2, 2, 2, 0, 2, 2, 2, 2, 2, 2, 2,\n",
       "       1, 2, 2, 2, 2, 2, 2, 2, 1, 2, 1, 2, 1, 1, 0, 2, 2, 2, 2, 2, 2, 2,\n",
       "       2, 2, 1, 2, 2, 2, 0, 2, 2, 2, 2, 2, 2, 2, 1, 2, 2, 2, 0, 0, 2, 2,\n",
       "       2, 2, 2, 2, 2, 2, 1, 2, 2, 1, 2, 1, 2, 2, 1, 2, 2, 1, 1, 2, 2, 2,\n",
       "       2, 2, 1, 2, 2, 2, 2, 2, 2, 2, 2, 2, 2, 2, 1, 1, 2, 2, 2, 2, 2, 2,\n",
       "       2, 2, 2, 2, 1, 2, 1, 2, 2, 2, 2, 2, 2, 2, 2, 2, 1, 2, 1, 2, 2, 2,\n",
       "       2, 1, 2, 1, 2, 2, 2, 2, 2, 2, 2, 0, 2, 2, 1, 2, 2, 2, 2, 2, 2, 2,\n",
       "       2, 2, 2, 2, 2, 0, 2, 2, 2, 2, 2, 1, 2, 1, 1, 2, 2, 1, 2, 1, 2, 2,\n",
       "       2, 1, 2, 1, 2, 2, 1, 2, 2, 1, 0, 2, 2, 1, 2, 2, 2, 1, 2, 2, 2, 2,\n",
       "       1, 2, 2, 2, 2, 1, 2, 1, 2, 2, 0, 2, 1, 2, 2, 2, 2, 0, 2, 1, 2, 1,\n",
       "       2])"
      ]
     },
     "execution_count": 31,
     "metadata": {},
     "output_type": "execute_result"
    }
   ],
   "source": [
    "nombres_clusters = kmeans.labels_\n",
    "nombres_clusters"
   ]
  },
  {
   "cell_type": "code",
   "execution_count": 32,
   "metadata": {},
   "outputs": [
    {
     "data": {
      "text/html": [
       "<div>\n",
       "<style scoped>\n",
       "    .dataframe tbody tr th:only-of-type {\n",
       "        vertical-align: middle;\n",
       "    }\n",
       "\n",
       "    .dataframe tbody tr th {\n",
       "        vertical-align: top;\n",
       "    }\n",
       "\n",
       "    .dataframe thead th {\n",
       "        text-align: right;\n",
       "    }\n",
       "</style>\n",
       "<table border=\"1\" class=\"dataframe\">\n",
       "  <thead>\n",
       "    <tr style=\"text-align: right;\">\n",
       "      <th></th>\n",
       "      <th>Pclass</th>\n",
       "      <th>Sex</th>\n",
       "      <th>Age</th>\n",
       "      <th>SibSp</th>\n",
       "      <th>Parch</th>\n",
       "      <th>Fare</th>\n",
       "      <th>Embarked</th>\n",
       "    </tr>\n",
       "  </thead>\n",
       "  <tbody>\n",
       "    <tr>\n",
       "      <th>0</th>\n",
       "      <td>3</td>\n",
       "      <td>0</td>\n",
       "      <td>34.5</td>\n",
       "      <td>0</td>\n",
       "      <td>0</td>\n",
       "      <td>7.8292</td>\n",
       "      <td>1</td>\n",
       "    </tr>\n",
       "    <tr>\n",
       "      <th>1</th>\n",
       "      <td>3</td>\n",
       "      <td>1</td>\n",
       "      <td>47.0</td>\n",
       "      <td>1</td>\n",
       "      <td>0</td>\n",
       "      <td>7.0000</td>\n",
       "      <td>0</td>\n",
       "    </tr>\n",
       "    <tr>\n",
       "      <th>2</th>\n",
       "      <td>2</td>\n",
       "      <td>0</td>\n",
       "      <td>62.0</td>\n",
       "      <td>0</td>\n",
       "      <td>0</td>\n",
       "      <td>9.6875</td>\n",
       "      <td>1</td>\n",
       "    </tr>\n",
       "    <tr>\n",
       "      <th>3</th>\n",
       "      <td>3</td>\n",
       "      <td>0</td>\n",
       "      <td>27.0</td>\n",
       "      <td>0</td>\n",
       "      <td>0</td>\n",
       "      <td>8.6625</td>\n",
       "      <td>0</td>\n",
       "    </tr>\n",
       "    <tr>\n",
       "      <th>4</th>\n",
       "      <td>3</td>\n",
       "      <td>1</td>\n",
       "      <td>22.0</td>\n",
       "      <td>1</td>\n",
       "      <td>1</td>\n",
       "      <td>12.2875</td>\n",
       "      <td>0</td>\n",
       "    </tr>\n",
       "    <tr>\n",
       "      <th>...</th>\n",
       "      <td>...</td>\n",
       "      <td>...</td>\n",
       "      <td>...</td>\n",
       "      <td>...</td>\n",
       "      <td>...</td>\n",
       "      <td>...</td>\n",
       "      <td>...</td>\n",
       "    </tr>\n",
       "    <tr>\n",
       "      <th>409</th>\n",
       "      <td>3</td>\n",
       "      <td>1</td>\n",
       "      <td>3.0</td>\n",
       "      <td>1</td>\n",
       "      <td>1</td>\n",
       "      <td>13.7750</td>\n",
       "      <td>0</td>\n",
       "    </tr>\n",
       "    <tr>\n",
       "      <th>411</th>\n",
       "      <td>1</td>\n",
       "      <td>1</td>\n",
       "      <td>37.0</td>\n",
       "      <td>1</td>\n",
       "      <td>0</td>\n",
       "      <td>90.0000</td>\n",
       "      <td>1</td>\n",
       "    </tr>\n",
       "    <tr>\n",
       "      <th>412</th>\n",
       "      <td>3</td>\n",
       "      <td>1</td>\n",
       "      <td>28.0</td>\n",
       "      <td>0</td>\n",
       "      <td>0</td>\n",
       "      <td>7.7750</td>\n",
       "      <td>0</td>\n",
       "    </tr>\n",
       "    <tr>\n",
       "      <th>414</th>\n",
       "      <td>1</td>\n",
       "      <td>1</td>\n",
       "      <td>39.0</td>\n",
       "      <td>0</td>\n",
       "      <td>0</td>\n",
       "      <td>108.9000</td>\n",
       "      <td>2</td>\n",
       "    </tr>\n",
       "    <tr>\n",
       "      <th>415</th>\n",
       "      <td>3</td>\n",
       "      <td>0</td>\n",
       "      <td>38.5</td>\n",
       "      <td>0</td>\n",
       "      <td>0</td>\n",
       "      <td>7.2500</td>\n",
       "      <td>0</td>\n",
       "    </tr>\n",
       "  </tbody>\n",
       "</table>\n",
       "<p>331 rows × 7 columns</p>\n",
       "</div>"
      ],
      "text/plain": [
       "     Pclass  Sex   Age  SibSp  Parch      Fare  Embarked\n",
       "0         3    0  34.5      0      0    7.8292         1\n",
       "1         3    1  47.0      1      0    7.0000         0\n",
       "2         2    0  62.0      0      0    9.6875         1\n",
       "3         3    0  27.0      0      0    8.6625         0\n",
       "4         3    1  22.0      1      1   12.2875         0\n",
       "..      ...  ...   ...    ...    ...       ...       ...\n",
       "409       3    1   3.0      1      1   13.7750         0\n",
       "411       1    1  37.0      1      0   90.0000         1\n",
       "412       3    1  28.0      0      0    7.7750         0\n",
       "414       1    1  39.0      0      0  108.9000         2\n",
       "415       3    0  38.5      0      0    7.2500         0\n",
       "\n",
       "[331 rows x 7 columns]"
      ]
     },
     "execution_count": 32,
     "metadata": {},
     "output_type": "execute_result"
    }
   ],
   "source": [
    "X"
   ]
  },
  {
   "cell_type": "code",
   "execution_count": 33,
   "metadata": {},
   "outputs": [
    {
     "data": {
      "image/png": "[encoded data removed]",
      "text/plain": [
       "<Figure size 432x288 with 1 Axes>"
      ]
     },
     "metadata": {
      "needs_background": "light"
     },
     "output_type": "display_data"
    }
   ],
   "source": [
    "# visualizar los grupos\n",
    "plt.scatter(X.iloc[:,6],X.iloc[:,5], s=100, c=nombres_clusters)\n",
    "plt.scatter(centros[:,6], centros[:,5], s=200, c='blue', label = 'Centroides')\n",
    "plt.title(\"Distribucion de las Clases de Pasajeros en los Puertos Visitados\")\n",
    "plt.xlabel(\"Puertos\")\n",
    "plt.ylabel(\"Costo Boleto\")\n",
    "plt.legend()\n",
    "\n",
    "plt.show()"
   ]
  },
  {
   "cell_type": "code",
   "execution_count": 34,
   "metadata": {},
   "outputs": [
    {
     "data": {
      "image/png": "[encoded data removed]",
      "text/plain": [
       "<Figure size 432x288 with 1 Axes>"
      ]
     },
     "metadata": {
      "needs_background": "light"
     },
     "output_type": "display_data"
    }
   ],
   "source": [
    "# visualizar los grupos\n",
    "plt.scatter(X.iloc[:,2],X.iloc[:,5], s=100, c=nombres_clusters)\n",
    "plt.scatter(centros[:,2], centros[:,5], s=200, c='blue', label = 'Centroides')\n",
    "plt.title(\"Nivel Económico de Pasajeros del Titanic\")\n",
    "plt.xlabel(\"Edad\")\n",
    "plt.ylabel(\"Costo Boleto\")\n",
    "plt.legend()\n",
    "\n",
    "plt.show()"
   ]
  }
 ],
 "metadata": {
  "kernelspec": {
   "display_name": "Python 3",
   "language": "python",
   "name": "python3"
  },
  "language_info": {
   "codemirror_mode": {
    "name": "ipython",
    "version": 3
   },
   "file_extension": ".py",
   "mimetype": "text/x-python",
   "name": "python",
   "nbconvert_exporter": "python",
   "pygments_lexer": "ipython3",
   "version": "3.8.8"
  }
 },
 "nbformat": 4,
 "nbformat_minor": 1
}
